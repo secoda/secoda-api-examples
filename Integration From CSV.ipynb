{
 "cells": [
  {
   "cell_type": "markdown",
   "metadata": {
    "collapsed": false,
    "pycharm": {
     "name": "#%% md\n"
    }
   },
   "source": [
    "# Create Tables\n",
    "\n",
    "This notebook provides an example for creating databases, schemas, tables, and columns using the Secoda API. To get started, you will need to [obtain an API key](https://app.secoda.co/settings/api)"
   ]
  },
  {
   "cell_type": "markdown",
   "metadata": {
    "collapsed": false,
    "pycharm": {
     "name": "#%% md\n"
    }
   },
   "source": [
    "## Configure `requests` with your API key\n",
    "\n",
    "Input your API key and Secoda API endpoint URL below. The URL for the cloud instance is `https://api.secoda.co`. If you are self-hosting Secoda or on the EU instance, you will have to update variable."
   ]
  },
  {
   "cell_type": "code",
   "execution_count": null,
   "metadata": {
    "collapsed": false,
    "pycharm": {
     "name": "#%%\n"
    }
   },
   "outputs": [],
   "source": [
    "import requests\n",
    "\n",
    "API_KEY = \"\"\n",
    "SECODA_API_URL = \"https://api.secoda.co\"\n",
    "INTEGRATION_ID = \"1ab26e51-9d97-4b02-b36f-1ac4f7f6cb44\"\n",
    "\n",
    "headers = dict(\n",
    "    Authorization=f\"Bearer {API_KEY}\"\n",
    ")\n",
    "\n",
    "response = requests.post(\n",
    "    f\"{SECODA_API_URL}/integration/integrations/{INTEGRATION_ID}/import_metadata/\",\n",
    "    files=dict(file=open(\"bice_dump.csv\", \"rb\")),\n",
    "    headers=headers\n",
    ")\n",
    "\n",
    "print(\"RESPONSE: \", response.status_code, response.text)"
   ]
  }
 ],
 "metadata": {
  "kernelspec": {
   "display_name": "Python 3",
   "language": "python",
   "name": "python3"
  },
  "language_info": {
   "codemirror_mode": {
    "name": "ipython",
    "version": 3
   },
   "file_extension": ".py",
   "mimetype": "text/x-python",
   "name": "python",
   "nbconvert_exporter": "python",
   "pygments_lexer": "ipython3",
   "version": "3.9.15 (main, Nov 16 2022, 15:59:18) \n[Clang 14.0.0 (clang-1400.0.29.202)]"
  },
  "vscode": {
   "interpreter": {
    "hash": "ebaf4ef54945abf0188377a817754ccebfa967e681ad8bc8cbe9af00a33921b9"
   }
  }
 },
 "nbformat": 4,
 "nbformat_minor": 0
}
