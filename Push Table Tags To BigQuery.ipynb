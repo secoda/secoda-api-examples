{
 "cells": [
  {
   "cell_type": "markdown",
   "metadata": {
    "collapsed": false,
    "pycharm": {
     "name": "#%% md\n"
    }
   },
   "source": [
    "# Push Table Tags\n",
    "\n",
    "This notebook provides an example for pushing table tags from Secoda to BigQuery. To get started, you will need to [obtain an API key](https://app.secoda.co/settings/api)\n",
    "\n",
    "Input your API key and Secoda API endpoint URL below. The URL for the cloud instance is `https://api.secoda.co`. If you are self-hosting Secoda or on the EU instance, you will have to update variable."
   ]
  },
  {
   "cell_type": "code",
   "execution_count": null,
   "metadata": {},
   "outputs": [],
   "source": [
    "%pip install google google-api-core google-api-python-client google-auth google-auth-httplib2 googleapis-common-protos httplib2"
   ]
  },
  {
   "cell_type": "code",
   "execution_count": 16,
   "metadata": {
    "collapsed": false,
    "pycharm": {
     "name": "#%%\n"
    }
   },
   "outputs": [],
   "source": [
    "\n",
    "import requests\n",
    "import httplib2\n",
    "import google_auth_httplib2\n",
    "from google.oauth2 import service_account\n",
    "from googleapiclient.discovery import build\n",
    "\n",
    "API_KEY = \"api_key\"\n",
    "SECODA_API_URL = \"https://api.secoda.co\"\n",
    "BIGQUERY_PROJECT_ID = \"project_id\"\n",
    "BIGQUERY_JSON_CREDENTIALS = {\n",
    "  \"type\": \"service_account\",\n",
    "  \"project_id\": \"project_id\",\n",
    "  \"private_key_id\": \"\",\n",
    "  \"private_key\": \"\",\n",
    "  \"client_email\": \"account@secoda-web.iam.gserviceaccount.com\",\n",
    "  \"client_id\": \"\",\n",
    "  \"auth_uri\": \"https://accounts.google.com/o/oauth2/auth\",\n",
    "  \"token_uri\": \"https://oauth2.googleapis.com/token\",\n",
    "  \"auth_provider_x509_cert_url\": \"https://www.googleapis.com/oauth2/v1/certs\",\n",
    "  \"client_x509_cert_url\": \"https://www.googleapis.com/robot/v1/metadata/x509/account%40project_id.iam.gserviceaccount.com\"\n",
    "}\n",
    "\n",
    "session = requests.Session()\n",
    "session.headers.update(dict(\n",
    "    Authorization=f\"Bearer {API_KEY}\"\n",
    "))\n",
    "\n",
    "class BigQueryHelpers:\n",
    "    DATE_LENGTH = 8\n",
    "    DEFAULT_PAGE_SIZE = 300\n",
    "    NUM_RETRIES = 1\n",
    "\n",
    "    DEFAULT_SCOPES = [\"https://www.googleapis.com/auth/cloud-platform\"]\n",
    "\n",
    "    @staticmethod\n",
    "    def _is_sharded_table(table_id: str) -> bool:\n",
    "        suffix = table_id[-BigQueryHelpers.DATE_LENGTH :]\n",
    "        return suffix.isdigit()\n",
    "\n",
    "http = httplib2.Http()\n",
    "authed_http = google_auth_httplib2.AuthorizedHttp(\n",
    "    # we have to re-create the credentials here instead of using the self.credentials\n",
    "    # call due to the different scopes these credentials require\n",
    "    service_account.Credentials.from_service_account_info(\n",
    "        BIGQUERY_JSON_CREDENTIALS,\n",
    "        scopes=BigQueryHelpers.DEFAULT_SCOPES,\n",
    "    ),\n",
    "    http=http,\n",
    ")\n",
    "bigquery_service = build(\n",
    "    \"bigquery\", \"v2\", http=authed_http, cache_discovery=False\n",
    ")\n",
    "\n",
    "\n",
    "def build_url(url: str):\n",
    "    return f\"{SECODA_API_URL}{url}\""
   ]
  },
  {
   "cell_type": "markdown",
   "metadata": {
    "collapsed": false,
    "pycharm": {
     "name": "#%% md\n"
    }
   },
   "source": [
    "## Get Table Tags\n",
    "\n",
    "You can obtain a table's tags with the table's ID or with the name, schema, and database. We'll use the name, schema, and database example"
   ]
  },
  {
   "cell_type": "code",
   "execution_count": null,
   "metadata": {
    "collapsed": false,
    "pycharm": {
     "name": "#%%\n"
    }
   },
   "outputs": [],
   "source": [
    "def get_tag(id):\n",
    "    res = session.get(build_url(f\"/tag/{id}/\"))\n",
    "    print(res.text)\n",
    "    return res.json()\n",
    "\n",
    "def get_table(title, schema, database, *args, **kwargs):\n",
    "    res = session.get(\n",
    "        build_url(f\"/table/tables/?title={title}&parent__title={schema}&parent__parent__title={database}\")\n",
    "    )\n",
    "    results = res.json().get(\"results\")\n",
    "    if len(results) >= 1:\n",
    "        return results[0]\n",
    "    return None\n",
    "\n",
    "table = {\n",
    "    \"title\": \"customers\",\n",
    "    \"schema\": \"dbt_amcewen\",\n",
    "    \"database\": \"secoda-web\",\n",
    "}\n",
    "\n",
    "table = get_table(**table)\n",
    "tags = table.get(\"tags\", [])\n",
    "\n",
    "for tag_id in tags:\n",
    "    tag = get_tag(tag_id)\n",
    "    bigquery_service.tables().patch(\n",
    "        projectId=BIGQUERY_PROJECT_ID,\n",
    "        datasetId=table.get(\"schema\"),\n",
    "        tableId=table.get(\"title\"),\n",
    "        body={\n",
    "            \"labels\": {\n",
    "                tag.get(\"name\").lower(): tag.get(\"name\").lower()\n",
    "            }\n",
    "        }\n",
    "    ).execute()\n",
    "\n",
    "\n"
   ]
  }
 ],
 "metadata": {
  "kernelspec": {
   "display_name": "Python 3.9.6 64-bit ('3.9.6')",
   "language": "python",
   "name": "python3"
  },
  "language_info": {
   "codemirror_mode": {
    "name": "ipython",
    "version": 3
   },
   "file_extension": ".py",
   "mimetype": "text/x-python",
   "name": "python",
   "nbconvert_exporter": "python",
   "pygments_lexer": "ipython3",
   "version": "3.9.6"
  },
  "vscode": {
   "interpreter": {
    "hash": "5dbe115918b82fb8c33e63f6fabda5c6de4de2bede040e24c266834fe5d83b9d"
   }
  }
 },
 "nbformat": 4,
 "nbformat_minor": 0
}
