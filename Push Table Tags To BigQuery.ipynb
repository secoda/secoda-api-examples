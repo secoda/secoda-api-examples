{
 "cells": [
  {
   "cell_type": "markdown",
   "metadata": {
    "pycharm": {
     "name": "#%% md\n"
    }
   },
   "source": [
    "# Push Table Tags\n",
    "\n",
    "This notebook provides an example for pushing table tags from Secoda to BigQuery. To get started, you will need to [obtain an API key](https://app.secoda.co/settings/api)\n",
    "\n",
    "Input your API key and Secoda API endpoint URL below. The URL for the cloud instance is `https://api.secoda.co`. If you are self-hosting Secoda or on the EU instance, you will have to update variable."
   ]
  },
  {
   "cell_type": "code",
   "execution_count": null,
   "metadata": {},
   "outputs": [],
   "source": [
    "%pip install google google-api-core google-api-python-client google-auth google-auth-httplib2 googleapis-common-protos httplib2"
   ]
  },
  {
   "cell_type": "code",
   "execution_count": 4,
   "metadata": {
    "pycharm": {
     "name": "#%%\n"
    }
   },
   "outputs": [],
   "source": [
    "\n",
    "import requests\n",
    "import httplib2\n",
    "import google_auth_httplib2\n",
    "from google.oauth2 import service_account\n",
    "from googleapiclient.discovery import build\n",
    "\n",
    "API_KEY = \"\"\n",
    "SECODA_API_URL = \"https://api.secoda.co\"\n",
    "BIGQUERY_PROJECT_ID = \"\"\n",
    "BIGQUERY_JSON_CREDENTIALS = {}\n",
    "\n",
    "session = requests.Session()\n",
    "session.headers.update(dict(\n",
    "    Authorization=f\"Bearer {API_KEY}\"\n",
    "))\n",
    "\n",
    "class BigQueryHelpers:\n",
    "    DATE_LENGTH = 8\n",
    "    DEFAULT_PAGE_SIZE = 300\n",
    "    NUM_RETRIES = 1\n",
    "\n",
    "    DEFAULT_SCOPES = [\"https://www.googleapis.com/auth/cloud-platform\"]\n",
    "\n",
    "    @staticmethod\n",
    "    def _is_sharded_table(table_id: str) -> bool:\n",
    "        suffix = table_id[-BigQueryHelpers.DATE_LENGTH :]\n",
    "        return suffix.isdigit()\n",
    "\n",
    "http = httplib2.Http()\n",
    "authed_http = google_auth_httplib2.AuthorizedHttp(\n",
    "    # we have to re-create the credentials here instead of using the self.credentials\n",
    "    # call due to the different scopes these credentials require\n",
    "    service_account.Credentials.from_service_account_info(\n",
    "        BIGQUERY_JSON_CREDENTIALS,\n",
    "        scopes=BigQueryHelpers.DEFAULT_SCOPES,\n",
    "    ),\n",
    "    http=http,\n",
    ")\n",
    "bigquery_service = build(\n",
    "    \"bigquery\", \"v2\", http=authed_http, cache_discovery=False\n",
    ")\n",
    "\n",
    "\n",
    "def build_url(url: str):\n",
    "    return f\"{SECODA_API_URL}{url}\""
   ]
  },
  {
   "cell_type": "markdown",
   "metadata": {
    "pycharm": {
     "name": "#%% md\n"
    }
   },
   "source": [
    "## Get Table Tags\n",
    "\n",
    "You can obtain a table's tags with the table's ID or with the name, schema, and database. We'll use the name, schema, and database example"
   ]
  },
  {
   "cell_type": "code",
   "execution_count": 19,
   "metadata": {
    "pycharm": {
     "name": "#%%\n"
    }
   },
   "outputs": [
    {
     "name": "stdout",
     "output_type": "stream",
     "text": [
      "{'name': 'verified'}\n",
      "Successfully updated table customers with {'labels': {'verified': 'verified'}}\n",
      "{'name': 'pii'}\n",
      "Successfully updated table customers with {'labels': {'pii': 'pii'}}\n",
      "{'name': 'verified'}\n",
      "Successfully updated table customers with {'labels': {'verified': 'verified'}}\n",
      "Successfully updated table stg_customers with {'description': 'test...test...'}\n",
      "Successfully updated table ge_temp_228949d7 with {'description': 'test...test...'}\n",
      "Successfully updated table my_second_dbt_model with {'description': 'test...test...'}\n",
      "Successfully updated table payments with {'description': 'test...test...'}\n"
     ]
    }
   ],
   "source": [
    "def get_tag(id):\n",
    "    res = session.get(build_url(f\"/tag/{id}/\"))\n",
    "    return res.json()\n",
    "\n",
    "def get_tables(title, schema, database, *args, **kwargs):\n",
    "    res = session.get(\n",
    "        build_url(f\"/table/tables/?integration=0fa11f8f-628c-4528-b195-75d08002f206\")\n",
    "    )\n",
    "    results = res.json().get(\"results\")\n",
    "    if len(results) >= 1:\n",
    "        return results\n",
    "    return None\n",
    "\n",
    "def patch_bigquery_table(table, properties):\n",
    "    try:\n",
    "        bigquery_service.tables().patch(\n",
    "            projectId=BIGQUERY_PROJECT_ID,\n",
    "            datasetId=table.get(\"properties\", {}).get(\"_preview\", {}).get(\"schema\", \"\"),\n",
    "            tableId=table.get(\"properties\", {}).get(\"_preview\", {}).get(\"title\", \"\"),\n",
    "            body=properties\n",
    "        ).execute()\n",
    "        print(f\"Successfully updated table {table.get('title')} with {properties}\")\n",
    "    except:\n",
    "        print(f\"Failed to update table {table.get('title')} with {properties}\")\n",
    "\n",
    "tables = get_tables(**table)\n",
    "for table in tables:\n",
    "    \n",
    "    # Push tags\n",
    "    tags = table.get(\"tags\", [])\n",
    "    \n",
    "    if table.get('pii', False):\n",
    "        tags.append('pii')\n",
    "        \n",
    "    if table.get('verified', False):\n",
    "        tags.append('verified')\n",
    "\n",
    "    for tag_id in tags:\n",
    "        if tag_id:\n",
    "            \n",
    "            if not tag_id in ['pii', 'verified']:\n",
    "                tag = get_tag(tag_id)\n",
    "            else:\n",
    "                tag = {\"name\": tag_id}\n",
    "        \n",
    "        if not tag:\n",
    "            continue\n",
    "        \n",
    "        patch_bigquery_table(table, {\"labels\": {tag.get(\"name\").lower(): tag.get(\"name\").lower()}})\n",
    "        \n",
    "    \n",
    "    # Push descriptions\n",
    "    if table.get('description', ''):\n",
    "        patch_bigquery_table(table, {\"description\": table.get(\"description\", \"\")})\n",
    "\n",
    "\n"
   ]
  },
  {
   "cell_type": "code",
   "execution_count": null,
   "metadata": {},
   "outputs": [],
   "source": []
  }
 ],
 "metadata": {
  "kernelspec": {
   "display_name": "Python 3",
   "language": "python",
   "name": "python3"
  },
  "language_info": {
   "codemirror_mode": {
    "name": "ipython",
    "version": 3
   },
   "file_extension": ".py",
   "mimetype": "text/x-python",
   "name": "python",
   "nbconvert_exporter": "python",
   "pygments_lexer": "ipython3",
   "version": "3.9.16"
  },
  "vscode": {
   "interpreter": {
    "hash": "ebaf4ef54945abf0188377a817754ccebfa967e681ad8bc8cbe9af00a33921b9"
   }
  }
 },
 "nbformat": 4,
 "nbformat_minor": 1
}
