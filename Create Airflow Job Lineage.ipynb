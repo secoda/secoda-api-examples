{
 "cells": [
  {
   "cell_type": "markdown",
   "metadata": {
    "collapsed": false,
    "pycharm": {
     "name": "#%% md\n"
    }
   },
   "source": [
    "# Create Airflow DAG Lineage\n",
    "\n",
    "This notebook provides an example for creating lineage between an Airflow DAG and table in Secoda. To get started, you will need to [obtain an API key](https://app.secoda.co/settings/api)\n",
    "\n",
    "Input your API key and Secoda API endpoint URL below. The URL for the cloud instance is `https://api.secoda.co`. If you are self-hosting Secoda or on the EU instance, you will have to update variable."
   ]
  },
  {
   "cell_type": "code",
   "execution_count": null,
   "metadata": {
    "collapsed": false,
    "pycharm": {
     "name": "#%%\n"
    }
   },
   "outputs": [],
   "source": [
    "\n",
    "import requests\n",
    "\n",
    "API_KEY = \"api_key\"\n",
    "SECODA_API_URL = \"https://api.secoda.co\"\n",
    "\n",
    "session = requests.Session()\n",
    "session.headers.update(dict(\n",
    "    Authorization=f\"Bearer {API_KEY}\"\n",
    "))\n",
    "\n",
    "\n",
    "def build_url(url: str):\n",
    "    return f\"{SECODA_API_URL}{url}\""
   ]
  },
  {
   "cell_type": "code",
   "execution_count": 2,
   "metadata": {
    "collapsed": false,
    "pycharm": {
     "name": "#%%\n"
    }
   },
   "outputs": [],
   "source": [
    "def find_table(title, schema, database, *args, **kwargs):\n",
    "    res = session.get(\n",
    "        build_url(f\"/table/tables/?title={title}&parent__title={schema}&parent__parent__title={database}\")\n",
    "    )\n",
    "    results = res.json().get(\"results\")\n",
    "    if len(results) >= 1:\n",
    "        return results[0]\n",
    "    return None\n",
    "\n",
    "def find_job(title, *args, **kwargs):\n",
    "    res = session.get(\n",
    "        build_url(f\"/job/jobs/?title={title}\")\n",
    "    )\n",
    "    results = res.json().get(\"results\")\n",
    "    if len(results) >= 1:\n",
    "        return results[0]\n",
    "    return None\n",
    "\n",
    "def set_lineage(upstream_table_id, downstream_table_id):\n",
    "    session.post(\n",
    "        build_url(f\"/lineage/manual/\"),\n",
    "        json=dict(\n",
    "            from_entity=upstream_table_id,\n",
    "            to_entity=downstream_table_id,\n",
    "            direction=\"DOWNSTREAM\",\n",
    "        )\n",
    "    )\n",
    "\n",
    "lineage = [\n",
    "    {\n",
    "        \"upstream_dag\": {\n",
    "            \"title\": \"tutorial\",\n",
    "        },\n",
    "        \"downstream_table\": {\n",
    "            \"title\": \"raw_payments\",\n",
    "            \"schema\": \"lightdash\",\n",
    "            \"database\": \"secodaredshift\",\n",
    "        },\n",
    "    }\n",
    "]\n",
    "\n",
    "for lineage_pair in lineage:\n",
    "    upstream_dag = find_job(\n",
    "        **lineage_pair[\"upstream_dag\"],\n",
    "    )\n",
    "    \n",
    "    downstream_table = find_table(\n",
    "        **lineage_pair[\"downstream_table\"],\n",
    "    )\n",
    "\n",
    "    set_lineage(upstream_dag.get(\"id\", \"\"), downstream_table.get(\"id\", \"\"))"
   ]
  }
 ],
 "metadata": {
  "kernelspec": {
   "display_name": "Python 3.9.15 64-bit",
   "language": "python",
   "name": "python3"
  },
  "language_info": {
   "codemirror_mode": {
    "name": "ipython",
    "version": 3
   },
   "file_extension": ".py",
   "mimetype": "text/x-python",
   "name": "python",
   "nbconvert_exporter": "python",
   "pygments_lexer": "ipython3",
   "version": "3.9.15"
  },
  "vscode": {
   "interpreter": {
    "hash": "089c0c6494ede2f1988a4b7fcf3a0e4e6bbf792af061e29b30525365be79162c"
   }
  }
 },
 "nbformat": 4,
 "nbformat_minor": 0
}
