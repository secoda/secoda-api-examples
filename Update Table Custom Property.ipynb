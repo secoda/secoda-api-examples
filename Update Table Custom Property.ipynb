{
 "cells": [
  {
   "cell_type": "markdown",
   "metadata": {
    "collapsed": false,
    "pycharm": {
     "name": "#%% md\n"
    }
   },
   "source": [
    "# Update Table Custom Property\n",
    "\n",
    "This notebook provides an example for updated a table custom property. To get started, you will need to [obtain an API key](https://app.secoda.co/settings/api)\n",
    "\n",
    "Input your API key and Secoda API endpoint URL below. The URL for the cloud instance is `https://api.secoda.co`. If you are self-hosting Secoda or on the EU instance, you will have to update variable."
   ]
  },
  {
   "cell_type": "code",
   "execution_count": null,
   "metadata": {
    "collapsed": false,
    "pycharm": {
     "name": "#%%\n"
    }
   },
   "outputs": [],
   "source": [
    "\n",
    "import requests\n",
    "\n",
    "API_KEY = \"api_key\"\n",
    "SECODA_API_URL = \"https://api.secoda.co\"\n",
    "\n",
    "session = requests.Session()\n",
    "session.headers.update(dict(\n",
    "    Authorization=f\"Bearer {API_KEY}\"\n",
    "))\n",
    "\n",
    "\n",
    "def build_url(url: str):\n",
    "    return f\"{SECODA_API_URL}{url}\""
   ]
  },
  {
   "cell_type": "markdown",
   "metadata": {
    "collapsed": false,
    "pycharm": {
     "name": "#%% md\n"
    }
   },
   "source": [
    "## Update table custom property\n",
    "In this step, we find the table using the title, schema, and database and then update a custom property \"CLASSIFICATION\" on the table."
   ]
  },
  {
   "cell_type": "code",
   "execution_count": null,
   "metadata": {
    "collapsed": false,
    "pycharm": {
     "name": "#%%\n"
    }
   },
   "outputs": [],
   "source": [
    "def find_column(title, table, schema, database, *args, **kwargs):\n",
    "    res = session.get(build_url(f\"/table/columns/?title={title}&parent__title={table}&parent__parent__title={schema}&parent__parent__parent__title={database}\"))\n",
    "    results = res.json().get(\"results\")\n",
    "    if len(results) >= 1:\n",
    "        return results[0]\n",
    "    return None\n",
    "\n",
    "\n",
    "def set_column_properties(unique_id, properties):\n",
    "    session.patch(\n",
    "        build_url(f\"/table/columns/{unique_id}/\"),\n",
    "        json=dict(\n",
    "            properties=properties,\n",
    "        ),\n",
    "    )\n",
    "\n",
    "\n",
    "columns = [{\n",
    "    \"title\": \"payment_id\",\n",
    "    \"table\": \"stg_payments\",\n",
    "    \"schema\": \"lightdash\",\n",
    "    \"database\": \"secodaredshift\"\n",
    "}]\n",
    "property_name = \"CLASSIFICATION\"\n",
    "new_value = \"Test\"\n",
    "\n",
    "for c in columns:\n",
    "    column = find_column(**c)\n",
    "    if column:\n",
    "        print(f\"Found column: {column.get('title')}\")\n",
    "        properties = column.get(\"properties\", {})\n",
    "        if not properties.get(\"custom\", None):\n",
    "            properties[\"custom\"] = []\n",
    "        \n",
    "        print(\"PROPERTIES: \", properties[\"custom\"])\n",
    "\n",
    "        if property_name in properties:\n",
    "            properties[property_name] = new_value\n",
    "        else:\n",
    "            properties[\"custom\"][property_name] = new_value\n",
    "        set_column_properties(column.get(\"id\"), properties)\n"
   ]
  }
 ],
 "metadata": {
  "kernelspec": {
   "display_name": "Python 3.9.15 64-bit",
   "language": "python",
   "name": "python3"
  },
  "language_info": {
   "codemirror_mode": {
    "name": "ipython",
    "version": 3
   },
   "file_extension": ".py",
   "mimetype": "text/x-python",
   "name": "python",
   "nbconvert_exporter": "python",
   "pygments_lexer": "ipython3",
   "version": "3.9.15"
  },
  "vscode": {
   "interpreter": {
    "hash": "089c0c6494ede2f1988a4b7fcf3a0e4e6bbf792af061e29b30525365be79162c"
   }
  }
 },
 "nbformat": 4,
 "nbformat_minor": 0
}
