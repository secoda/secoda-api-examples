{
 "cells": [
  {
   "cell_type": "markdown",
   "metadata": {
    "collapsed": false,
    "pycharm": {
     "name": "#%% md\n"
    }
   },
   "source": [
    "# Create Table Lineage\n",
    "\n",
    "This notebook provides an example for creating lineage between two tables in Secoda. To get started, you will need to [obtain an API key](https://app.secoda.co/settings/api)\n",
    "\n",
    "Input your API key and Secoda API endpoint URL below. The URL for the cloud instance is `https://api.secoda.co`. If you are self-hosting Secoda or on the EU instance, you will have to update variable."
   ]
  },
  {
   "cell_type": "code",
   "execution_count": 1,
   "metadata": {
    "collapsed": false,
    "pycharm": {
     "name": "#%%\n"
    }
   },
   "outputs": [],
   "source": [
    "\n",
    "import requests\n",
    "\n",
    "API_KEY = \"<api_key>\"\n",
    "SECODA_API_URL = \"https://api.secoda.co\"\n",
    "\n",
    "session = requests.Session()\n",
    "session.headers.update(dict(\n",
    "    Authorization=f\"Bearer {API_KEY}\"\n",
    "))\n",
    "\n",
    "\n",
    "def build_url(url: str):\n",
    "    return f\"{SECODA_API_URL}{url}\""
   ]
  },
  {
   "cell_type": "code",
   "execution_count": null,
   "metadata": {
    "collapsed": false,
    "pycharm": {
     "name": "#%%\n"
    }
   },
   "outputs": [],
   "source": [
    "def find_secoda_table(title, schema, database, *args, **kwargs):\n",
    "    res = session.get(\n",
    "        build_url(f\"/table/tables/?title={title}&schema={schema}&database={database}\")\n",
    "    )\n",
    "    results = res.json().get(\"results\")\n",
    "    if len(results) >= 1:\n",
    "        return results[0]\n",
    "    return None\n",
    "\n",
    "def set_table_lineage(upstream_table_id, downstream_table_id):\n",
    "    session.put(\n",
    "        build_url(f\"/lineage/manual/\"),\n",
    "        json=dict(\n",
    "            from_entity=upstream_table_id,\n",
    "            to_entity=downstream_table_id,\n",
    "            direction=\"DOWNSTREAM\",\n",
    "        )\n",
    "    )\n",
    "\n",
    "table_lineage = [\n",
    "    {\n",
    "        \"upstream_table\": {\n",
    "            \"title\": \"table_1\",\n",
    "            \"schema\": \"schema_1\",\n",
    "            \"database\": \"database_1\",\n",
    "        },\n",
    "        \"downstream_table\": {\n",
    "            \"title\": \"table_2\",\n",
    "            \"schema\": \"schema_2\",\n",
    "            \"database\": \"database_2\",\n",
    "        },\n",
    "    }\n",
    "]\n",
    "\n",
    "for lineage_pair in table_lineage:\n",
    "    upstream_table = find_secoda_table(\n",
    "        **lineage_pair[\"upstream_table\"],\n",
    "    )\n",
    "    downstream_table = find_secoda_table(\n",
    "        **lineage_pair[\"downstream_table\"],\n",
    "    )\n",
    "    set_table_lineage(upstream_table.get(\"id\", \"\"), downstream_table.get(\"id\", \"\"))"
   ]
  }
 ],
 "metadata": {
  "kernelspec": {
   "display_name": "Python 3.9.6 64-bit ('3.9.6')",
   "language": "python",
   "name": "python3"
  },
  "language_info": {
   "codemirror_mode": {
    "name": "ipython",
    "version": 3
   },
   "file_extension": ".py",
   "mimetype": "text/x-python",
   "name": "python",
   "nbconvert_exporter": "python",
   "pygments_lexer": "ipython3",
   "version": "3.9.6"
  },
  "vscode": {
   "interpreter": {
    "hash": "5dbe115918b82fb8c33e63f6fabda5c6de4de2bede040e24c266834fe5d83b9d"
   }
  }
 },
 "nbformat": 4,
 "nbformat_minor": 0
}
