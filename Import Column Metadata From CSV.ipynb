{
 "cells": [
  {
   "attachments": {},
   "cell_type": "markdown",
   "metadata": {
    "collapsed": false,
    "pycharm": {
     "name": "#%% md\n"
    }
   },
   "source": [
    "# Import Column Metadata From CSV\n",
    "\n",
    "This notebook provides an example for uploading column metadata to Secoda. To get started, you will need to [obtain an API key](https://app.secoda.co/settings/api)\n",
    "\n",
    "Input your API key and Secoda API endpoint URL below. The URL for the cloud instance is `https://api.secoda.co`. If you are self-hosting Secoda or on the EU instance, you will have to update variable."
   ]
  },
  {
   "cell_type": "code",
   "execution_count": 1,
   "metadata": {
    "collapsed": false,
    "pycharm": {
     "name": "#%%\n"
    }
   },
   "outputs": [],
   "source": [
    "\n",
    "import requests\n",
    "\n",
    "API_KEY = \"\"\n",
    "SECODA_API_URL = \"https://api.secoda.co\"\n",
    "\n",
    "session = requests.Session()\n",
    "session.headers.update(dict(\n",
    "    Authorization=f\"Bearer {API_KEY}\"\n",
    "))\n",
    "\n",
    "\n",
    "def build_url(url: str):\n",
    "    return f\"{SECODA_API_URL}{url}\""
   ]
  },
  {
   "cell_type": "markdown",
   "metadata": {
    "collapsed": false,
    "pycharm": {
     "name": "#%% md\n"
    }
   },
   "source": [
    "## Parse your data\n",
    "\n",
    "If your data is in CSV format, you could parse it this way and standardize the column names in there to match up with Secoda"
   ]
  },
  {
   "cell_type": "code",
   "execution_count": 30,
   "metadata": {
    "collapsed": false,
    "pycharm": {
     "is_executing": true,
     "name": "#%%\n"
    }
   },
   "outputs": [],
   "source": [
    "import pandas\n",
    "import json\n",
    "\n",
    "dataframe = pandas.read_csv(\"data/delta_defense_column_metadata.csv\")\n",
    "dataframe = dataframe.where(pandas.notnull(dataframe), None)\n",
    "dataframe[\"column\"] = dataframe[\"Column_Name (Technical Term)\"]\n",
    "dataframe[\"table\"] = dataframe[\"Presentation_Table\"]\n",
    "dataframe[\"description\"] = dataframe[\"Definition\"]\n",
    "dataframe[\"nullable\"] = dataframe[\"Nullable\"]\n",
    "dataframe[\"required\"] = dataframe[\"Required\"]\n",
    "dataframe[\"sensitive data type\"] = dataframe[\"Sensitive_Data_Type\"]\n",
    "dataframe[\"protection level\"] = dataframe[\"Protection_Level\"]\n",
    "dataframe[\"presentation tbl purpose\"] = dataframe[\"Presentation_TBL_Purpose\"]\n",
    "dataframe[\"key\"] = dataframe[\"Keys\"]"
   ]
  },
  {
   "attachments": {},
   "cell_type": "markdown",
   "metadata": {
    "collapsed": false,
    "pycharm": {
     "name": "#%% md\n"
    }
   },
   "source": [
    "## Upload column metadata to Secoda"
   ]
  },
  {
   "cell_type": "code",
   "execution_count": 35,
   "metadata": {
    "collapsed": false,
    "pycharm": {
     "name": "#%%\n"
    }
   },
   "outputs": [
    {
     "name": "stdout",
     "output_type": "stream",
     "text": [
      "Processing 0/442\n",
      "{'custom': {'keys': 'PK', 'Presentation_Table': 'DM_AGENT', 'Column_Name (Technical Term)': 'AGENT_DIM_ID', 'Definition': 'System generated key used to uniquely identify a row in this dimension.', 'Data_Type': 'number', 'Keys': 'PK', 'Nullable': nan, 'Required': nan, 'Presentation_TBL_Purpose': 'Table that contains information about call center agents.', 'nullable': nan, 'required': nan, 'presentation tbl purpose': 'Table that contains information about call center agents.', 'key': 'PK'}, '_profile': {'max': 0.0, 'min': 0.0, 'mean': 0.0, 'count': 71114, 'median': 0.0, 'ntiles': [{'left': 0, 'label': 'ad4fc2da352d828d2a4c817984c8423e', 'right': 1, 'frequency': '1', 'is_numeric': False}, {'left': 1, 'label': 'a46450b63133937a59399ec1e404899e', 'right': 2, 'frequency': '1', 'is_numeric': False}, {'left': 2, 'label': '61716441aeac3dfe90a5bd9254bdd532', 'right': 3, 'frequency': '1', 'is_numeric': False}, {'left': 3, 'label': '616f6a679351149d91e2b2127d14f271', 'right': 4, 'frequency': '1', 'is_numeric': False}, {'left': 4, 'label': '9520a927da29b43d37cac76e077885da', 'right': 5, 'frequency': '1', 'is_numeric': False}, {'left': 5, 'label': '14c3e5f6eedfe81a61379d34c6fa8479', 'right': 6, 'frequency': '1', 'is_numeric': False}, {'left': 6, 'label': 'd53d88c71cf2aa72e3690f93556725f6', 'right': 7, 'frequency': '1', 'is_numeric': False}, {'left': 7, 'label': 'a865149a749cec43c6bf49294a265d00', 'right': 8, 'frequency': '1', 'is_numeric': False}, {'left': 8, 'label': '6761fd6b1b476996083546aec5759ca7', 'right': 9, 'frequency': '1', 'is_numeric': False}, {'left': 9, 'label': 'ad68e9c9d4b680fc0cd8d877e996fb1a', 'right': 10, 'frequency': '1', 'is_numeric': False}, {'left': 10, 'label': 'f5f0e3b7049759806ce27a728cf902bf', 'right': 11, 'frequency': '1', 'is_numeric': False}, {'left': 11, 'label': '548ff45a07964b404468075648ddf8de', 'right': 12, 'frequency': '1', 'is_numeric': False}, {'left': 12, 'label': 'c5183fe1430ff738352a3ec56be6fb64', 'right': 13, 'frequency': '1', 'is_numeric': False}, {'left': 13, 'label': '52060a50d631348d6f9a0e1c5fc2a553', 'right': 14, 'frequency': '1', 'is_numeric': False}, {'left': 14, 'label': 'cab03f16d440792b0b01bcaae58b70e6', 'right': 15, 'frequency': '1', 'is_numeric': False}, {'left': 15, 'label': '8b313fb13cb97b836a431d0f74735c90', 'right': 16, 'frequency': '1', 'is_numeric': False}, {'left': 16, 'label': '9a5d650810b0539a4845f842aa471935', 'right': 17, 'frequency': '1', 'is_numeric': False}, {'left': 17, 'label': '3093804b2367731b8ce5f78eda7de115', 'right': 18, 'frequency': '1', 'is_numeric': False}, {'left': 18, 'label': '66a1837349e251157b476094a70e2932', 'right': 19, 'frequency': '1', 'is_numeric': False}, {'left': 19, 'label': 'e3a94395ba4fab795facc6a0e3169c49', 'right': 20, 'frequency': '1', 'is_numeric': False}], 'unique': 71114, 'percent_filled': 100.0}}\n",
      "System generated key used to uniquely identify a row in this dimension.\n"
     ]
    },
    {
     "ename": "InvalidJSONError",
     "evalue": "Out of range float values are not JSON compliant",
     "output_type": "error",
     "traceback": [
      "\u001b[0;31m---------------------------------------------------------------------------\u001b[0m",
      "\u001b[0;31mValueError\u001b[0m                                Traceback (most recent call last)",
      "File \u001b[0;32m~/.asdf/installs/python/3.9.16/lib/python3.9/site-packages/requests/models.py:511\u001b[0m, in \u001b[0;36mPreparedRequest.prepare_body\u001b[0;34m(self, data, files, json)\u001b[0m\n\u001b[1;32m    510\u001b[0m \u001b[39mtry\u001b[39;00m:\n\u001b[0;32m--> 511\u001b[0m     body \u001b[39m=\u001b[39m complexjson\u001b[39m.\u001b[39;49mdumps(json, allow_nan\u001b[39m=\u001b[39;49m\u001b[39mFalse\u001b[39;49;00m)\n\u001b[1;32m    512\u001b[0m \u001b[39mexcept\u001b[39;00m \u001b[39mValueError\u001b[39;00m \u001b[39mas\u001b[39;00m ve:\n",
      "File \u001b[0;32m~/.asdf/installs/python/3.9.16/lib/python3.9/json/__init__.py:234\u001b[0m, in \u001b[0;36mdumps\u001b[0;34m(obj, skipkeys, ensure_ascii, check_circular, allow_nan, cls, indent, separators, default, sort_keys, **kw)\u001b[0m\n\u001b[1;32m    233\u001b[0m     \u001b[39mcls\u001b[39m \u001b[39m=\u001b[39m JSONEncoder\n\u001b[0;32m--> 234\u001b[0m \u001b[39mreturn\u001b[39;00m \u001b[39mcls\u001b[39;49m(\n\u001b[1;32m    235\u001b[0m     skipkeys\u001b[39m=\u001b[39;49mskipkeys, ensure_ascii\u001b[39m=\u001b[39;49mensure_ascii,\n\u001b[1;32m    236\u001b[0m     check_circular\u001b[39m=\u001b[39;49mcheck_circular, allow_nan\u001b[39m=\u001b[39;49mallow_nan, indent\u001b[39m=\u001b[39;49mindent,\n\u001b[1;32m    237\u001b[0m     separators\u001b[39m=\u001b[39;49mseparators, default\u001b[39m=\u001b[39;49mdefault, sort_keys\u001b[39m=\u001b[39;49msort_keys,\n\u001b[1;32m    238\u001b[0m     \u001b[39m*\u001b[39;49m\u001b[39m*\u001b[39;49mkw)\u001b[39m.\u001b[39;49mencode(obj)\n",
      "File \u001b[0;32m~/.asdf/installs/python/3.9.16/lib/python3.9/json/encoder.py:199\u001b[0m, in \u001b[0;36mJSONEncoder.encode\u001b[0;34m(self, o)\u001b[0m\n\u001b[1;32m    196\u001b[0m \u001b[39m# This doesn't pass the iterator directly to ''.join() because the\u001b[39;00m\n\u001b[1;32m    197\u001b[0m \u001b[39m# exceptions aren't as detailed.  The list call should be roughly\u001b[39;00m\n\u001b[1;32m    198\u001b[0m \u001b[39m# equivalent to the PySequence_Fast that ''.join() would do.\u001b[39;00m\n\u001b[0;32m--> 199\u001b[0m chunks \u001b[39m=\u001b[39m \u001b[39mself\u001b[39;49m\u001b[39m.\u001b[39;49miterencode(o, _one_shot\u001b[39m=\u001b[39;49m\u001b[39mTrue\u001b[39;49;00m)\n\u001b[1;32m    200\u001b[0m \u001b[39mif\u001b[39;00m \u001b[39mnot\u001b[39;00m \u001b[39misinstance\u001b[39m(chunks, (\u001b[39mlist\u001b[39m, \u001b[39mtuple\u001b[39m)):\n",
      "File \u001b[0;32m~/.asdf/installs/python/3.9.16/lib/python3.9/json/encoder.py:257\u001b[0m, in \u001b[0;36mJSONEncoder.iterencode\u001b[0;34m(self, o, _one_shot)\u001b[0m\n\u001b[1;32m    253\u001b[0m     _iterencode \u001b[39m=\u001b[39m _make_iterencode(\n\u001b[1;32m    254\u001b[0m         markers, \u001b[39mself\u001b[39m\u001b[39m.\u001b[39mdefault, _encoder, \u001b[39mself\u001b[39m\u001b[39m.\u001b[39mindent, floatstr,\n\u001b[1;32m    255\u001b[0m         \u001b[39mself\u001b[39m\u001b[39m.\u001b[39mkey_separator, \u001b[39mself\u001b[39m\u001b[39m.\u001b[39mitem_separator, \u001b[39mself\u001b[39m\u001b[39m.\u001b[39msort_keys,\n\u001b[1;32m    256\u001b[0m         \u001b[39mself\u001b[39m\u001b[39m.\u001b[39mskipkeys, _one_shot)\n\u001b[0;32m--> 257\u001b[0m \u001b[39mreturn\u001b[39;00m _iterencode(o, \u001b[39m0\u001b[39;49m)\n",
      "\u001b[0;31mValueError\u001b[0m: Out of range float values are not JSON compliant",
      "\nDuring handling of the above exception, another exception occurred:\n",
      "\u001b[0;31mInvalidJSONError\u001b[0m                          Traceback (most recent call last)",
      "Cell \u001b[0;32mIn[35], line 44\u001b[0m\n\u001b[1;32m     40\u001b[0m column \u001b[39m=\u001b[39m find_column(\n\u001b[1;32m     41\u001b[0m     \u001b[39m*\u001b[39m\u001b[39m*\u001b[39mentry\n\u001b[1;32m     42\u001b[0m )\n\u001b[1;32m     43\u001b[0m \u001b[39mif\u001b[39;00m column \u001b[39mis\u001b[39;00m \u001b[39mnot\u001b[39;00m \u001b[39mNone\u001b[39;00m:\n\u001b[0;32m---> 44\u001b[0m     set_column_metadata(column, entry)\n\u001b[1;32m     45\u001b[0m \u001b[39melse\u001b[39;00m:\n\u001b[1;32m     46\u001b[0m     \u001b[39mprint\u001b[39m(\u001b[39mf\u001b[39m\u001b[39m\"\u001b[39m\u001b[39mNOT FOUND: \u001b[39m\u001b[39m\"\u001b[39m, entry\u001b[39m.\u001b[39mget(\u001b[39m\"\u001b[39m\u001b[39mcolumn\u001b[39m\u001b[39m\"\u001b[39m))\n",
      "Cell \u001b[0;32mIn[35], line 30\u001b[0m, in \u001b[0;36mset_column_metadata\u001b[0;34m(column, metadata)\u001b[0m\n\u001b[1;32m     27\u001b[0m \u001b[39mprint\u001b[39m(properties)\n\u001b[1;32m     28\u001b[0m \u001b[39mprint\u001b[39m(description)\n\u001b[0;32m---> 30\u001b[0m session\u001b[39m.\u001b[39;49mput(\n\u001b[1;32m     31\u001b[0m     build_url(\u001b[39mf\u001b[39;49m\u001b[39m\"\u001b[39;49m\u001b[39m/table/columns/\u001b[39;49m\u001b[39m{\u001b[39;49;00mcolumn_id\u001b[39m}\u001b[39;49;00m\u001b[39m\"\u001b[39;49m),\n\u001b[1;32m     32\u001b[0m     json\u001b[39m=\u001b[39;49m\u001b[39mdict\u001b[39;49m(\n\u001b[1;32m     33\u001b[0m         description\u001b[39m=\u001b[39;49mdescription,\n\u001b[1;32m     34\u001b[0m         properties\u001b[39m=\u001b[39;49mproperties\n\u001b[1;32m     35\u001b[0m     )\n\u001b[1;32m     36\u001b[0m )\n",
      "File \u001b[0;32m~/.asdf/installs/python/3.9.16/lib/python3.9/site-packages/requests/sessions.py:647\u001b[0m, in \u001b[0;36mSession.put\u001b[0;34m(self, url, data, **kwargs)\u001b[0m\n\u001b[1;32m    637\u001b[0m \u001b[39mdef\u001b[39;00m \u001b[39mput\u001b[39m(\u001b[39mself\u001b[39m, url, data\u001b[39m=\u001b[39m\u001b[39mNone\u001b[39;00m, \u001b[39m*\u001b[39m\u001b[39m*\u001b[39mkwargs):\n\u001b[1;32m    638\u001b[0m \u001b[39m    \u001b[39m\u001b[39mr\u001b[39m\u001b[39m\"\"\"Sends a PUT request. Returns :class:`Response` object.\u001b[39;00m\n\u001b[1;32m    639\u001b[0m \n\u001b[1;32m    640\u001b[0m \u001b[39m    :param url: URL for the new :class:`Request` object.\u001b[39;00m\n\u001b[0;32m   (...)\u001b[0m\n\u001b[1;32m    644\u001b[0m \u001b[39m    :rtype: requests.Response\u001b[39;00m\n\u001b[1;32m    645\u001b[0m \u001b[39m    \"\"\"\u001b[39;00m\n\u001b[0;32m--> 647\u001b[0m     \u001b[39mreturn\u001b[39;00m \u001b[39mself\u001b[39;49m\u001b[39m.\u001b[39;49mrequest(\u001b[39m\"\u001b[39;49m\u001b[39mPUT\u001b[39;49m\u001b[39m\"\u001b[39;49m, url, data\u001b[39m=\u001b[39;49mdata, \u001b[39m*\u001b[39;49m\u001b[39m*\u001b[39;49mkwargs)\n",
      "File \u001b[0;32m~/.asdf/installs/python/3.9.16/lib/python3.9/site-packages/requests/sessions.py:573\u001b[0m, in \u001b[0;36mSession.request\u001b[0;34m(self, method, url, params, data, headers, cookies, files, auth, timeout, allow_redirects, proxies, hooks, stream, verify, cert, json)\u001b[0m\n\u001b[1;32m    560\u001b[0m \u001b[39m# Create the Request.\u001b[39;00m\n\u001b[1;32m    561\u001b[0m req \u001b[39m=\u001b[39m Request(\n\u001b[1;32m    562\u001b[0m     method\u001b[39m=\u001b[39mmethod\u001b[39m.\u001b[39mupper(),\n\u001b[1;32m    563\u001b[0m     url\u001b[39m=\u001b[39murl,\n\u001b[0;32m   (...)\u001b[0m\n\u001b[1;32m    571\u001b[0m     hooks\u001b[39m=\u001b[39mhooks,\n\u001b[1;32m    572\u001b[0m )\n\u001b[0;32m--> 573\u001b[0m prep \u001b[39m=\u001b[39m \u001b[39mself\u001b[39;49m\u001b[39m.\u001b[39;49mprepare_request(req)\n\u001b[1;32m    575\u001b[0m proxies \u001b[39m=\u001b[39m proxies \u001b[39mor\u001b[39;00m {}\n\u001b[1;32m    577\u001b[0m settings \u001b[39m=\u001b[39m \u001b[39mself\u001b[39m\u001b[39m.\u001b[39mmerge_environment_settings(\n\u001b[1;32m    578\u001b[0m     prep\u001b[39m.\u001b[39murl, proxies, stream, verify, cert\n\u001b[1;32m    579\u001b[0m )\n",
      "File \u001b[0;32m~/.asdf/installs/python/3.9.16/lib/python3.9/site-packages/requests/sessions.py:484\u001b[0m, in \u001b[0;36mSession.prepare_request\u001b[0;34m(self, request)\u001b[0m\n\u001b[1;32m    481\u001b[0m     auth \u001b[39m=\u001b[39m get_netrc_auth(request\u001b[39m.\u001b[39murl)\n\u001b[1;32m    483\u001b[0m p \u001b[39m=\u001b[39m PreparedRequest()\n\u001b[0;32m--> 484\u001b[0m p\u001b[39m.\u001b[39;49mprepare(\n\u001b[1;32m    485\u001b[0m     method\u001b[39m=\u001b[39;49mrequest\u001b[39m.\u001b[39;49mmethod\u001b[39m.\u001b[39;49mupper(),\n\u001b[1;32m    486\u001b[0m     url\u001b[39m=\u001b[39;49mrequest\u001b[39m.\u001b[39;49murl,\n\u001b[1;32m    487\u001b[0m     files\u001b[39m=\u001b[39;49mrequest\u001b[39m.\u001b[39;49mfiles,\n\u001b[1;32m    488\u001b[0m     data\u001b[39m=\u001b[39;49mrequest\u001b[39m.\u001b[39;49mdata,\n\u001b[1;32m    489\u001b[0m     json\u001b[39m=\u001b[39;49mrequest\u001b[39m.\u001b[39;49mjson,\n\u001b[1;32m    490\u001b[0m     headers\u001b[39m=\u001b[39;49mmerge_setting(\n\u001b[1;32m    491\u001b[0m         request\u001b[39m.\u001b[39;49mheaders, \u001b[39mself\u001b[39;49m\u001b[39m.\u001b[39;49mheaders, dict_class\u001b[39m=\u001b[39;49mCaseInsensitiveDict\n\u001b[1;32m    492\u001b[0m     ),\n\u001b[1;32m    493\u001b[0m     params\u001b[39m=\u001b[39;49mmerge_setting(request\u001b[39m.\u001b[39;49mparams, \u001b[39mself\u001b[39;49m\u001b[39m.\u001b[39;49mparams),\n\u001b[1;32m    494\u001b[0m     auth\u001b[39m=\u001b[39;49mmerge_setting(auth, \u001b[39mself\u001b[39;49m\u001b[39m.\u001b[39;49mauth),\n\u001b[1;32m    495\u001b[0m     cookies\u001b[39m=\u001b[39;49mmerged_cookies,\n\u001b[1;32m    496\u001b[0m     hooks\u001b[39m=\u001b[39;49mmerge_hooks(request\u001b[39m.\u001b[39;49mhooks, \u001b[39mself\u001b[39;49m\u001b[39m.\u001b[39;49mhooks),\n\u001b[1;32m    497\u001b[0m )\n\u001b[1;32m    498\u001b[0m \u001b[39mreturn\u001b[39;00m p\n",
      "File \u001b[0;32m~/.asdf/installs/python/3.9.16/lib/python3.9/site-packages/requests/models.py:371\u001b[0m, in \u001b[0;36mPreparedRequest.prepare\u001b[0;34m(self, method, url, headers, files, data, params, auth, cookies, hooks, json)\u001b[0m\n\u001b[1;32m    369\u001b[0m \u001b[39mself\u001b[39m\u001b[39m.\u001b[39mprepare_headers(headers)\n\u001b[1;32m    370\u001b[0m \u001b[39mself\u001b[39m\u001b[39m.\u001b[39mprepare_cookies(cookies)\n\u001b[0;32m--> 371\u001b[0m \u001b[39mself\u001b[39;49m\u001b[39m.\u001b[39;49mprepare_body(data, files, json)\n\u001b[1;32m    372\u001b[0m \u001b[39mself\u001b[39m\u001b[39m.\u001b[39mprepare_auth(auth, url)\n\u001b[1;32m    374\u001b[0m \u001b[39m# Note that prepare_auth must be last to enable authentication schemes\u001b[39;00m\n\u001b[1;32m    375\u001b[0m \u001b[39m# such as OAuth to work on a fully prepared request.\u001b[39;00m\n\u001b[1;32m    376\u001b[0m \n\u001b[1;32m    377\u001b[0m \u001b[39m# This MUST go after prepare_auth. Authenticators could add a hook\u001b[39;00m\n",
      "File \u001b[0;32m~/.asdf/installs/python/3.9.16/lib/python3.9/site-packages/requests/models.py:513\u001b[0m, in \u001b[0;36mPreparedRequest.prepare_body\u001b[0;34m(self, data, files, json)\u001b[0m\n\u001b[1;32m    511\u001b[0m     body \u001b[39m=\u001b[39m complexjson\u001b[39m.\u001b[39mdumps(json, allow_nan\u001b[39m=\u001b[39m\u001b[39mFalse\u001b[39;00m)\n\u001b[1;32m    512\u001b[0m \u001b[39mexcept\u001b[39;00m \u001b[39mValueError\u001b[39;00m \u001b[39mas\u001b[39;00m ve:\n\u001b[0;32m--> 513\u001b[0m     \u001b[39mraise\u001b[39;00m InvalidJSONError(ve, request\u001b[39m=\u001b[39m\u001b[39mself\u001b[39m)\n\u001b[1;32m    515\u001b[0m \u001b[39mif\u001b[39;00m \u001b[39mnot\u001b[39;00m \u001b[39misinstance\u001b[39m(body, \u001b[39mbytes\u001b[39m):\n\u001b[1;32m    516\u001b[0m     body \u001b[39m=\u001b[39m body\u001b[39m.\u001b[39mencode(\u001b[39m\"\u001b[39m\u001b[39mutf-8\u001b[39m\u001b[39m\"\u001b[39m)\n",
      "\u001b[0;31mInvalidJSONError\u001b[0m: Out of range float values are not JSON compliant"
     ]
    }
   ],
   "source": [
    "import math\n",
    "\n",
    "def find_column(table, column, *args, **kwargs):\n",
    "    res = session.get(\n",
    "        build_url(f\"/table/columns/?title={column.lower()}&parent__title={table.lower()}\")\n",
    "    )\n",
    "    results = res.json().get(\"results\")\n",
    "    if len(results) >= 1:\n",
    "        return results[0]\n",
    "    return None\n",
    "\n",
    "\n",
    "def set_column_metadata(column, metadata):\n",
    "    column_id = column.get(\"id\")\n",
    "    description = metadata.get(\"description\")\n",
    "    \n",
    "    # Set custom properties\n",
    "    new_properties = metadata.get(\"custom\")\n",
    "    properties = column.get(\"properties\", {})\n",
    "    if not \"custom\" in properties:\n",
    "        properties[\"custom\"] = {}\n",
    "\n",
    "    for property, value in metadata.items():\n",
    "        if property not in [\"column\", \"table\", \"description\"] and value is not None and not value == 'nan':\n",
    "            properties[\"custom\"][property] = value\n",
    "        \n",
    "    print(properties)\n",
    "    print(description)\n",
    "\n",
    "    session.put(\n",
    "        build_url(f\"/table/columns/{column_id}\"),\n",
    "        json=dict(\n",
    "            description=description,\n",
    "            properties=properties\n",
    "        )\n",
    "    )\n",
    "\n",
    "for index, entry in enumerate(dataframe.to_dict(\"records\")):\n",
    "    print(f\"Processing {index}/{dataframe.shape[0]}\")\n",
    "    column = find_column(\n",
    "        **entry\n",
    "    )\n",
    "    if column is not None:\n",
    "        set_column_metadata(column, entry)\n",
    "    else:\n",
    "        print(f\"NOT FOUND: \", entry.get(\"column\"))\n",
    "    \n",
    "    break"
   ]
  }
 ],
 "metadata": {
  "kernelspec": {
   "display_name": "Python 3",
   "language": "python",
   "name": "python3"
  },
  "language_info": {
   "codemirror_mode": {
    "name": "ipython",
    "version": 3
   },
   "file_extension": ".py",
   "mimetype": "text/x-python",
   "name": "python",
   "nbconvert_exporter": "python",
   "pygments_lexer": "ipython3",
   "version": "3.9.16"
  },
  "vscode": {
   "interpreter": {
    "hash": "ebaf4ef54945abf0188377a817754ccebfa967e681ad8bc8cbe9af00a33921b9"
   }
  }
 },
 "nbformat": 4,
 "nbformat_minor": 0
}
