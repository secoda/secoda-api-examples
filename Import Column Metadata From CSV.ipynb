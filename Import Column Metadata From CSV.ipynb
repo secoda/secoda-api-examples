{
 "cells": [
  {
   "attachments": {},
   "cell_type": "markdown",
   "metadata": {
    "collapsed": false,
    "pycharm": {
     "name": "#%% md\n"
    }
   },
   "source": [
    "# Import Column Metadata From CSV\n",
    "\n",
    "This notebook provides an example for uploading column metadata to Secoda. To get started, you will need to [obtain an API key](https://app.secoda.co/settings/api)\n",
    "\n",
    "Input your API key and Secoda API endpoint URL below. The URL for the cloud instance is `https://api.secoda.co`. If you are self-hosting Secoda or on the EU instance, you will have to update variable."
   ]
  },
  {
   "cell_type": "code",
   "execution_count": 1,
   "metadata": {
    "collapsed": false,
    "pycharm": {
     "name": "#%%\n"
    }
   },
   "outputs": [],
   "source": [
    "\n",
    "import requests\n",
    "\n",
    "API_KEY = \"\"\n",
    "SECODA_API_URL = \"https://api.secoda.co\"\n",
    "\n",
    "session = requests.Session()\n",
    "session.headers.update(dict(\n",
    "    Authorization=f\"Bearer {API_KEY}\"\n",
    "))\n",
    "\n",
    "\n",
    "def build_url(url: str):\n",
    "    return f\"{SECODA_API_URL}{url}\""
   ]
  },
  {
   "cell_type": "markdown",
   "metadata": {
    "collapsed": false,
    "pycharm": {
     "name": "#%% md\n"
    }
   },
   "source": [
    "## Parse your data\n",
    "\n",
    "If your data is in CSV format, you could parse it this way and standardize the column names in there to match up with Secoda"
   ]
  },
  {
   "cell_type": "code",
   "execution_count": 37,
   "metadata": {
    "collapsed": false,
    "pycharm": {
     "is_executing": true,
     "name": "#%%\n"
    }
   },
   "outputs": [],
   "source": [
    "import pandas\n",
    "import json\n",
    "\n",
    "dataframe = pandas.read_csv(\"data/delta_defense_column_metadata.csv\")\n",
    "dataframe[\"column\"] = dataframe[\"Column_Name (Technical Term)\"]\n",
    "dataframe[\"table\"] = dataframe[\"Presentation_Table\"]\n",
    "dataframe[\"description\"] = dataframe[\"Definition\"]\n",
    "dataframe[\"nullable\"] = dataframe[\"Nullable\"]\n",
    "dataframe[\"required\"] = dataframe[\"Required\"]\n",
    "dataframe[\"sensitive data type\"] = dataframe[\"Sensitive_Data_Type\"]\n",
    "dataframe[\"protection level\"] = dataframe[\"Protection_Level\"]\n",
    "dataframe[\"presentation tbl purpose\"] = dataframe[\"Presentation_TBL_Purpose\"]\n",
    "dataframe[\"key\"] = dataframe[\"Keys\"]\n",
    "dataframe = dataframe.fillna(\"\")"
   ]
  },
  {
   "attachments": {},
   "cell_type": "markdown",
   "metadata": {
    "collapsed": false,
    "pycharm": {
     "name": "#%% md\n"
    }
   },
   "source": [
    "## Upload column metadata to Secoda"
   ]
  },
  {
   "cell_type": "code",
   "execution_count": 38,
   "metadata": {
    "collapsed": false,
    "pycharm": {
     "name": "#%%\n"
    }
   },
   "outputs": [
    {
     "name": "stdout",
     "output_type": "stream",
     "text": [
      "Processing 0/442\n",
      "{'custom': {'keys': 'PK', 'Presentation_Table': 'DM_AGENT', 'Column_Name (Technical Term)': 'AGENT_DIM_ID', 'Definition': 'System generated key used to uniquely identify a row in this dimension.', 'Data_Type': 'number', 'Keys': 'PK', 'Nullable': '', 'Required': '', 'Sensitive_Data_Type': '', 'Protection_Level': '', 'Presentation_TBL_Purpose': 'Table that contains information about call center agents.', 'nullable': '', 'required': '', 'sensitive data type': '', 'protection level': '', 'presentation tbl purpose': 'Table that contains information about call center agents.', 'key': 'PK'}, '_profile': {'max': 0.0, 'min': 0.0, 'mean': 0.0, 'count': 71114, 'median': 0.0, 'ntiles': [{'left': 0, 'label': 'ad4fc2da352d828d2a4c817984c8423e', 'right': 1, 'frequency': '1', 'is_numeric': False}, {'left': 1, 'label': 'a46450b63133937a59399ec1e404899e', 'right': 2, 'frequency': '1', 'is_numeric': False}, {'left': 2, 'label': '61716441aeac3dfe90a5bd9254bdd532', 'right': 3, 'frequency': '1', 'is_numeric': False}, {'left': 3, 'label': '616f6a679351149d91e2b2127d14f271', 'right': 4, 'frequency': '1', 'is_numeric': False}, {'left': 4, 'label': '9520a927da29b43d37cac76e077885da', 'right': 5, 'frequency': '1', 'is_numeric': False}, {'left': 5, 'label': '14c3e5f6eedfe81a61379d34c6fa8479', 'right': 6, 'frequency': '1', 'is_numeric': False}, {'left': 6, 'label': 'd53d88c71cf2aa72e3690f93556725f6', 'right': 7, 'frequency': '1', 'is_numeric': False}, {'left': 7, 'label': 'a865149a749cec43c6bf49294a265d00', 'right': 8, 'frequency': '1', 'is_numeric': False}, {'left': 8, 'label': '6761fd6b1b476996083546aec5759ca7', 'right': 9, 'frequency': '1', 'is_numeric': False}, {'left': 9, 'label': 'ad68e9c9d4b680fc0cd8d877e996fb1a', 'right': 10, 'frequency': '1', 'is_numeric': False}, {'left': 10, 'label': 'f5f0e3b7049759806ce27a728cf902bf', 'right': 11, 'frequency': '1', 'is_numeric': False}, {'left': 11, 'label': '548ff45a07964b404468075648ddf8de', 'right': 12, 'frequency': '1', 'is_numeric': False}, {'left': 12, 'label': 'c5183fe1430ff738352a3ec56be6fb64', 'right': 13, 'frequency': '1', 'is_numeric': False}, {'left': 13, 'label': '52060a50d631348d6f9a0e1c5fc2a553', 'right': 14, 'frequency': '1', 'is_numeric': False}, {'left': 14, 'label': 'cab03f16d440792b0b01bcaae58b70e6', 'right': 15, 'frequency': '1', 'is_numeric': False}, {'left': 15, 'label': '8b313fb13cb97b836a431d0f74735c90', 'right': 16, 'frequency': '1', 'is_numeric': False}, {'left': 16, 'label': '9a5d650810b0539a4845f842aa471935', 'right': 17, 'frequency': '1', 'is_numeric': False}, {'left': 17, 'label': '3093804b2367731b8ce5f78eda7de115', 'right': 18, 'frequency': '1', 'is_numeric': False}, {'left': 18, 'label': '66a1837349e251157b476094a70e2932', 'right': 19, 'frequency': '1', 'is_numeric': False}, {'left': 19, 'label': 'e3a94395ba4fab795facc6a0e3169c49', 'right': 20, 'frequency': '1', 'is_numeric': False}], 'unique': 71114, 'percent_filled': 100.0}}\n",
      "System generated key used to uniquely identify a row in this dimension.\n"
     ]
    }
   ],
   "source": [
    "import math\n",
    "\n",
    "custom_keys = [\"nullable\", \"required\", \"sensitive data type\", \"presentation tbl purpose\", \"key\"]\n",
    "\n",
    "def find_column(table, column, *args, **kwargs):\n",
    "    res = session.get(\n",
    "        build_url(f\"/table/columns/?title={column.lower()}&parent__title={table.lower()}\")\n",
    "    )\n",
    "    results = res.json().get(\"results\")\n",
    "    if len(results) >= 1:\n",
    "        return results[0]\n",
    "    return None\n",
    "\n",
    "\n",
    "def set_column_metadata(column, metadata):\n",
    "    column_id = column.get(\"id\")\n",
    "    description = metadata.get(\"description\")\n",
    "    \n",
    "    # Set custom properties\n",
    "    new_properties = metadata.get(\"custom\")\n",
    "    properties = column.get(\"properties\", {})\n",
    "    if not \"custom\" in properties:\n",
    "        properties[\"custom\"] = {}\n",
    "\n",
    "    for property, value in metadata.items():\n",
    "        if property in custom_keys and value is not None and not value == 'nan':\n",
    "            properties[\"custom\"][property] = value\n",
    "        \n",
    "    print(properties)\n",
    "    print(description)\n",
    "\n",
    "    session.put(\n",
    "        build_url(f\"/table/columns/{column_id}\"),\n",
    "        json=dict(\n",
    "            description=description,\n",
    "            properties=properties\n",
    "        )\n",
    "    )\n",
    "\n",
    "for index, entry in enumerate(dataframe.to_dict(\"records\")):\n",
    "    print(f\"Processing {index}/{dataframe.shape[0]}\")\n",
    "    column = find_column(\n",
    "        **entry\n",
    "    )\n",
    "    if column is not None:\n",
    "        set_column_metadata(column, entry)\n",
    "    else:\n",
    "        print(f\"NOT FOUND: \", entry.get(\"column\"))\n",
    "    \n",
    "    break"
   ]
  }
 ],
 "metadata": {
  "kernelspec": {
   "display_name": "Python 3",
   "language": "python",
   "name": "python3"
  },
  "language_info": {
   "codemirror_mode": {
    "name": "ipython",
    "version": 3
   },
   "file_extension": ".py",
   "mimetype": "text/x-python",
   "name": "python",
   "nbconvert_exporter": "python",
   "pygments_lexer": "ipython3",
   "version": "3.9.16"
  },
  "vscode": {
   "interpreter": {
    "hash": "ebaf4ef54945abf0188377a817754ccebfa967e681ad8bc8cbe9af00a33921b9"
   }
  }
 },
 "nbformat": 4,
 "nbformat_minor": 0
}
