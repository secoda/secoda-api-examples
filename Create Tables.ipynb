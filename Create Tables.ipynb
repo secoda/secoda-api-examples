{
 "cells": [
  {
   "cell_type": "markdown",
   "metadata": {
    "collapsed": false,
    "pycharm": {
     "name": "#%% md\n"
    }
   },
   "source": [
    "# Create Tables\n",
    "\n",
    "This notebook provides an example for creating databases, schemas, tables, and columns using the Secoda API. To get started, you will need to [obtain an API key](https://app.secoda.co/settings/api)"
   ]
  },
  {
   "cell_type": "markdown",
   "metadata": {
    "collapsed": false,
    "pycharm": {
     "name": "#%% md\n"
    }
   },
   "source": [
    "## Configure `requests` with your API key\n",
    "\n",
    "Input your API key and Secoda API endpoint URL below. The URL for the cloud instance is `https://api.secoda.co`. If you are self-hosting Secoda or on the EU instance, you will have to update variable."
   ]
  },
  {
   "cell_type": "code",
   "execution_count": 14,
   "metadata": {
    "collapsed": false,
    "pycharm": {
     "name": "#%%\n"
    }
   },
   "outputs": [],
   "source": [
    "import requests\n",
    "\n",
    "API_KEY = \"\"\n",
    "SECODA_API_URL = \"https://api.secoda.co\"\n",
    "\n",
    "session = requests.Session()\n",
    "session.headers.update(dict(\n",
    "    Authorization=f\"Bearer {API_KEY}\"\n",
    "))\n",
    "\n",
    "def build_url(url: str):\n",
    "    return f\"{SECODA_API_URL}{url}\""
   ]
  },
  {
   "cell_type": "markdown",
   "metadata": {
    "collapsed": false,
    "pycharm": {
     "name": "#%% md\n"
    }
   },
   "source": [
    "## Create a cluster\n",
    "\n",
    "Secoda organizes in a Cluster -> Database -> Schema -> Table -> (Column, Query, Test) hierarchy. The first step is to create a cluster."
   ]
  },
  {
   "cell_type": "code",
   "execution_count": 8,
   "metadata": {
    "collapsed": false,
    "pycharm": {
     "name": "#%%\n"
    }
   },
   "outputs": [],
   "source": [
    "# first make sure no clusters with the same name exist to avoid inserting duplicate entries\n",
    "my_cluster_name = \"bigquery\"\n",
    "clusters = session.get(\n",
    "    build_url(f\"/table/clusters?title={my_cluster_name}\")\n",
    ").json().get(\"results\", [])\n",
    "\n",
    "# create a cluster if non exist with the name\n",
    "if len(clusters) == 0:\n",
    "    cluster = session.post(build_url(\"/table/clusters/\"), json=dict(\n",
    "        title=my_cluster_name,\n",
    "    )).json()\n",
    "else:\n",
    "    cluster = clusters[0]"
   ]
  },
  {
   "cell_type": "markdown",
   "metadata": {
    "collapsed": false,
    "pycharm": {
     "name": "#%% md\n"
    }
   },
   "source": [
    "## Create a database\n",
    "\n",
    "Once your cluster is created, the next step is to create a database in your cluster. For this one we need to make sure a cluster is already created and use its `id` to create a relationship between the two."
   ]
  },
  {
   "cell_type": "code",
   "execution_count": 9,
   "metadata": {
    "collapsed": false,
    "pycharm": {
     "name": "#%%\n"
    }
   },
   "outputs": [],
   "source": [
    "databases = session.get(\n",
    "    build_url(f\"/table/databases?title=my-database&parent_id={cluster['id']}\")\n",
    ").json().get(\"results\", [])\n",
    "\n",
    "if len(databases) == 0:\n",
    "    database = session.post(build_url(\"/table/databases/\"), json=dict(\n",
    "        title=\"my-database\",\n",
    "        parent=cluster[\"id\"]\n",
    "    )).json()\n",
    "else:\n",
    "    database = databases[0]"
   ]
  },
  {
   "cell_type": "markdown",
   "metadata": {
    "collapsed": false,
    "pycharm": {
     "name": "#%% md\n"
    }
   },
   "source": [
    "## Create a schema\n",
    "\n",
    "In this step we will create a schema and assign it to the database from previous step."
   ]
  },
  {
   "cell_type": "code",
   "execution_count": 10,
   "metadata": {
    "collapsed": false,
    "pycharm": {
     "name": "#%%\n"
    }
   },
   "outputs": [],
   "source": [
    "schemas = session.get(\n",
    "    build_url(f\"/table/schemas?title=public&parent_id={database['id']}\")\n",
    ").json().get(\"results\", [])\n",
    "\n",
    "if len(schemas) == 0:\n",
    "    schema = session.post(build_url(\"/table/schemas/\"), json=dict(\n",
    "        title=\"public\",\n",
    "        parent=database[\"id\"]\n",
    "    )).json()\n",
    "else:\n",
    "    schema = schemas[0]"
   ]
  },
  {
   "cell_type": "markdown",
   "metadata": {
    "collapsed": false,
    "pycharm": {
     "name": "#%% md\n"
    }
   },
   "source": [
    "## Create a table\n",
    "\n",
    "Now finally the time to create the tables on Secoda in the schema we created in the previous step"
   ]
  },
  {
   "cell_type": "code",
   "execution_count": 11,
   "metadata": {
    "collapsed": false,
    "pycharm": {
     "name": "#%%\n"
    }
   },
   "outputs": [],
   "source": [
    "tables = session.get(\n",
    "    build_url(f\"/table/tables?title=customers&parent_id={schema['id']}\")\n",
    ").json().get(\"results\", [])\n",
    "\n",
    "if len(tables) == 0:\n",
    "    table = session.post(build_url(\"/table/tables/\"), json=dict(\n",
    "        title=\"customers\",\n",
    "        parent=schema[\"id\"],\n",
    "        schema=schema[\"title\"],\n",
    "        database=database[\"title\"],\n",
    "        cluster=cluster[\"title\"],\n",
    "        description=\"customers table generated using the secoda api\",\n",
    "        definition=\"# markdown documentation for table\\n this shows up in the documentation tab\"\n",
    "    )).json()\n",
    "else:\n",
    "    table = tables[0]"
   ]
  },
  {
   "cell_type": "markdown",
   "metadata": {
    "collapsed": false,
    "pycharm": {
     "name": "#%% md\n"
    }
   },
   "source": [
    "## Create a column\n",
    "\n",
    "We are almost done. Just have to create columns on the table we have created"
   ]
  },
  {
   "cell_type": "code",
   "execution_count": 12,
   "metadata": {
    "collapsed": false,
    "pycharm": {
     "name": "#%%\n"
    }
   },
   "outputs": [],
   "source": [
    "columns = session.get(\n",
    "    build_url(f\"/table/columns?title=customer_id&parent_id={table['id']}\")\n",
    ").json().get(\"results\", [])\n",
    "\n",
    "if len(columns) == 0:\n",
    "    column = session.post(build_url(\"/table/columns/\"), json=dict(\n",
    "        title=\"customer_id\",\n",
    "        parent=table[\"id\"],\n",
    "        description=\"a unique identifier\",\n",
    "        type=\"int64\",\n",
    "        is_pk=True,\n",
    "        sort_order=0\n",
    "    )).json()\n",
    "else:\n",
    "    column = columns[0]"
   ]
  },
  {
   "cell_type": "markdown",
   "metadata": {
    "collapsed": false,
    "pycharm": {
     "name": "#%% md\n"
    }
   },
   "source": [
    "## Wrapping Up\n",
    "\n",
    "Finally, open the table you just created in Secoda to test it!"
   ]
  },
  {
   "cell_type": "code",
   "execution_count": 13,
   "metadata": {
    "collapsed": false,
    "pycharm": {
     "name": "#%%\n"
    }
   },
   "outputs": [
    {
     "data": {
      "text/plain": [
       "'https://app.secoda.co/table/dd975ccd-313c-448a-8528-5e7e82843343'"
      ]
     },
     "execution_count": 13,
     "metadata": {},
     "output_type": "execute_result"
    }
   ],
   "source": [
    "f\"https://app.secoda.co/table/{table['id']}\""
   ]
  }
 ],
 "metadata": {
  "kernelspec": {
   "display_name": "Python 3.9.6 64-bit ('3.9.6')",
   "language": "python",
   "name": "python3"
  },
  "language_info": {
   "codemirror_mode": {
    "name": "ipython",
    "version": 2
   },
   "file_extension": ".py",
   "mimetype": "text/x-python",
   "name": "python",
   "nbconvert_exporter": "python",
   "pygments_lexer": "ipython2",
   "version": "3.9.6"
  },
  "vscode": {
   "interpreter": {
    "hash": "5dbe115918b82fb8c33e63f6fabda5c6de4de2bede040e24c266834fe5d83b9d"
   }
  }
 },
 "nbformat": 4,
 "nbformat_minor": 0
}
