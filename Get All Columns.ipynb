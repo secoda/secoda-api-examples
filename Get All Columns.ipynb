{
 "cells": [
  {
   "cell_type": "markdown",
   "metadata": {
    "collapsed": false,
    "pycharm": {
     "name": "#%% md\n"
    }
   },
   "source": [
    "# Get Columns\n",
    "\n",
    "This notebook provides an example for getting columns in Secoda. To get started, you will need to [obtain an API key](https://app.secoda.co/settings/api)\n",
    "\n",
    "Input your API key and Secoda API endpoint URL below. The URL for the cloud instance is `https://api.secoda.co`. If you are self-hosting Secoda or on the EU instance, you will have to update the variable. For self hosted, you need to add /api/v1 to the end of the SECODA_API_URL, i.e, https://secoda.paystack.com/api/v1"
   ]
  },
  {
   "cell_type": "code",
   "execution_count": 14,
   "metadata": {
    "collapsed": false,
    "pycharm": {
     "name": "#%%\n"
    }
   },
   "outputs": [],
   "source": [
    "\n",
    "import requests\n",
    "\n",
    "API_KEY = \"\"\n",
    "SECODA_API_URL = \"https://api.secoda.co\"\n",
    "\n",
    "session = requests.Session()\n",
    "session.headers.update(dict(\n",
    "    Authorization=f\"Bearer {API_KEY}\"\n",
    "))\n",
    "\n",
    "\n",
    "def build_url(url: str):\n",
    "    return f\"{SECODA_API_URL}{url}\""
   ]
  },
  {
   "cell_type": "code",
   "execution_count": null,
   "metadata": {},
   "outputs": [],
   "source": [
    "def get_paginated_entity_map(url: str):\n",
    "    pages = 1\n",
    "    page = 1\n",
    "    entity_map = {}\n",
    "    while page <= pages:\n",
    "        print(f'Getting page {page}/{pages}')\n",
    "        response = session.get(build_url(f\"{url}?page={page}\"))\n",
    "        data = response.json()\n",
    "        pages = data[\"total_pages\"]\n",
    "        page += 1\n",
    "        for entity in data[\"results\"]:\n",
    "            entity_map[entity[\"id\"]] = entity\n",
    "    return entity_map\n",
    "\n",
    "collection_map = get_paginated_entity_map(\"/collection/collections\")\n",
    "collection_map"
   ]
  },
  {
   "cell_type": "code",
   "execution_count": null,
   "metadata": {
    "collapsed": false,
    "pycharm": {
     "name": "#%%\n"
    }
   },
   "outputs": [],
   "source": [
    "import pandas\n",
    "\n",
    "fields = ['title', 'type', 'table', 'source', 'database', 'schema', 'description', 'status', 'collections', 'sql']\n",
    "columns = []\n",
    "\n",
    "page = 1\n",
    "pages = 1\n",
    "while page <= pages:\n",
    "    print(f'Getting page {page}/{pages}')\n",
    "    response = session.get(build_url(f\"/table/columns?page={page}\"))\n",
    "    data = response.json()\n",
    "    pages = data[\"total_pages\"]\n",
    "    page += 1\n",
    "    for column in data[\"results\"]:\n",
    "        c = [\n",
    "            column[\"title\"],\n",
    "            column[\"type\"],\n",
    "            column[\"table_title\"],\n",
    "            column[\"table_cluster\"],\n",
    "            column[\"table_database\"],\n",
    "            column[\"table_schema\"],\n",
    "            column[\"description\"],\n",
    "            \"published\" if column[\"published\"] else \"draft\",\n",
    "            \", \".join([collection_map[collection_id][\"title\"] for collection_id in column[\"collections\"]]),\n",
    "            column[\"properties\"].get(\"custom\", {}).get(\"sql\", \"\")\n",
    "        ]\n",
    "        columns.append(c)\n",
    "column_data = pandas.DataFrame(columns=fields, data=columns)\n",
    "column_data.to_csv(\"data/columns.csv\", index=False)"
   ]
  }
 ],
 "metadata": {
  "kernelspec": {
   "display_name": "Python 3.9.6 64-bit ('3.9.6')",
   "language": "python",
   "name": "python3"
  },
  "language_info": {
   "codemirror_mode": {
    "name": "ipython",
    "version": 3
   },
   "file_extension": ".py",
   "mimetype": "text/x-python",
   "name": "python",
   "nbconvert_exporter": "python",
   "pygments_lexer": "ipython3",
   "version": "3.9.6"
  },
  "vscode": {
   "interpreter": {
    "hash": "5dbe115918b82fb8c33e63f6fabda5c6de4de2bede040e24c266834fe5d83b9d"
   }
  }
 },
 "nbformat": 4,
 "nbformat_minor": 0
}
