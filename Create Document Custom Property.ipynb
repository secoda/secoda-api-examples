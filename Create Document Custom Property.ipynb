{
 "cells": [
  {
   "cell_type": "markdown",
   "metadata": {
    "collapsed": false,
    "pycharm": {
     "name": "#%% md\n"
    }
   },
   "source": [
    "# Create Document Custom Property\n",
    "\n",
    "This notebook provides an example for creating a document custom property. To get started, you will need to [obtain an API key](https://app.secoda.co/settings/api)\n",
    "\n",
    "Input your API key and Secoda API endpoint URL below. The URL for the cloud instance is `https://api.secoda.co`. If you are self-hosting Secoda or on the EU instance, you will have to update variable."
   ]
  },
  {
   "cell_type": "code",
   "execution_count": 1,
   "metadata": {
    "collapsed": false,
    "pycharm": {
     "name": "#%%\n"
    }
   },
   "outputs": [],
   "source": [
    "\n",
    "import requests\n",
    "\n",
    "API_KEY = \"api_key\"\n",
    "SECODA_API_URL = \"https://api.secoda.co\"\n",
    "\n",
    "session = requests.Session()\n",
    "session.headers.update(dict(\n",
    "    Authorization=f\"Bearer {API_KEY}\"\n",
    "))\n",
    "\n",
    "\n",
    "def build_url(url: str):\n",
    "    return f\"{SECODA_API_URL}{url}\""
   ]
  },
  {
   "cell_type": "markdown",
   "metadata": {
    "collapsed": false,
    "pycharm": {
     "name": "#%% md\n"
    }
   },
   "source": [
    "## Create document custom property\n",
    "In this step, we find the document using the title, and then update a custom property \"Link\" on the document."
   ]
  },
  {
   "cell_type": "code",
   "execution_count": null,
   "metadata": {
    "collapsed": false,
    "pycharm": {
     "name": "#%%\n"
    }
   },
   "outputs": [],
   "source": [
    "def find_document(title, *args, **kwargs):\n",
    "    res = session.get(build_url(f\"/document/?title={title}\"))\n",
    "    results = res.json().get(\"results\")\n",
    "    if len(results) >= 1:\n",
    "        return results[0]\n",
    "    return None\n",
    "\n",
    "\n",
    "def set_document_properties(unique_id, properties):\n",
    "    session.patch(\n",
    "        build_url(f\"/document/{unique_id}/\"),\n",
    "        json=dict(\n",
    "            properties=properties,\n",
    "        ),\n",
    "    )\n",
    "\n",
    "\n",
    "documents = [\"Wikipedia\"]\n",
    "\n",
    "for doc_title in documents:\n",
    "    document = find_document(\n",
    "        title=doc_title,\n",
    "    )\n",
    "    if document is not None:\n",
    "        print(f\"Found document: {document}\")\n",
    "        properties = document.get(\"properties\", {})\n",
    "        if properties.get(\"custom\", None) is None:\n",
    "            properties[\"custom\"] = []\n",
    "        properties[\"custom\"].append({\n",
    "            \"name\": \"Link\",\n",
    "            \"type\": \"string\",\n",
    "            \"value\": \"[Wikipedia](https://en.wikipedia.org)\",\n",
    "        })\n",
    "        set_document_properties(document.get(\"id\"), properties)\n"
   ]
  }
 ],
 "metadata": {
  "kernelspec": {
   "display_name": "Python 3.9.6 64-bit ('3.9.6')",
   "language": "python",
   "name": "python3"
  },
  "language_info": {
   "codemirror_mode": {
    "name": "ipython",
    "version": 3
   },
   "file_extension": ".py",
   "mimetype": "text/x-python",
   "name": "python",
   "nbconvert_exporter": "python",
   "pygments_lexer": "ipython3",
   "version": "3.9.6"
  },
  "vscode": {
   "interpreter": {
    "hash": "5dbe115918b82fb8c33e63f6fabda5c6de4de2bede040e24c266834fe5d83b9d"
   }
  }
 },
 "nbformat": 4,
 "nbformat_minor": 0
}
