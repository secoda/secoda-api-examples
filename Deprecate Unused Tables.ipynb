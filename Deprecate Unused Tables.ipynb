{
 "cells": [
  {
   "cell_type": "markdown",
   "metadata": {
    "pycharm": {
     "name": "#%% md\n"
    }
   },
   "source": [
    "# Deprecate Unused Tables\n",
    "\n",
    "This notebook provides an example for getting all of the unused tables in Snowflake. To get started, you will need to [obtain an API key](https://app.secoda.co/settings/api)\n",
    "\n",
    "Input your API key and Secoda API endpoint URL below. The URL for the cloud instance is `https://api.secoda.co`. If you are self-hosting Secoda or on the EU instance, you will have to update the variable. For self hosted, you need to add /api/v1 to the end of the SECODA_API_URL, i.e, https://secoda.paystack.com/api/v1"
   ]
  },
  {
   "cell_type": "code",
   "execution_count": 22,
   "metadata": {
    "pycharm": {
     "name": "#%%\n"
    }
   },
   "outputs": [],
   "source": [
    "\n",
    "import requests\n",
    "\n",
    "API_KEY = \"\"\n",
    "SECODA_API_URL = \"https://api.secoda.co\"\n",
    "\n",
    "session = requests.Session()\n",
    "session.headers.update(dict(\n",
    "    Authorization=f\"Bearer {API_KEY}\"\n",
    "))\n",
    "\n",
    "\n",
    "def build_url(url: str):\n",
    "    return f\"{SECODA_API_URL}{url}\""
   ]
  },
  {
   "cell_type": "code",
   "execution_count": 20,
   "metadata": {},
   "outputs": [
    {
     "name": "stdout",
     "output_type": "stream",
     "text": [
      "Getting page 1/1\n"
     ]
    }
   ],
   "source": [
    "import dateutil.parser\n",
    "from datetime import datetime, timedelta\n",
    "import pytz\n",
    "\n",
    "thirty_days_ago = datetime.utcnow() - timedelta(days=30)\n",
    "\n",
    "def get_unused_and_stale_tables():\n",
    "    pages = 1\n",
    "    page = 1\n",
    "    unused_tables = []\n",
    "    stale_tables = []\n",
    "    while page <= pages:\n",
    "        print(f'Getting page {page}/{pages}')\n",
    "        response = session.get(build_url(f\"/table/tables?integration_id=a7123601-d1f1-42f0-b8db-1e40ca273a81&page={page}\"))\n",
    "        data = response.json()\n",
    "        pages = data[\"total_pages\"]\n",
    "        page += 1\n",
    "        tables = data.get(\"results\", [])\n",
    "        for table in tables:\n",
    "            \n",
    "            # Check if the table has been queried in last 7 days\n",
    "            if table.get(\"external_usage\") == 0:\n",
    "                unused_tables.append(table)\n",
    "                \n",
    "            # Check if a table has been updated in last 30 days\n",
    "            if thirty_days_ago.replace(tzinfo=pytz.UTC) > dateutil.parser.parse(table.get(\"external_updated_at\")).replace(tzinfo=pytz.UTC):\n",
    "                stale_tables.append(table)\n",
    "\n",
    "    return unused_tables, stale_tables\n",
    "\n",
    "unused_tables, stale_tables = get_unused_and_stale_tables()\n",
    "\n",
    "# Write to a file unused_tables.txt\n",
    "with open(\"data/unused_tables.txt\", \"w\") as f:\n",
    "    for table in unused_tables:\n",
    "        f.write(f\"{table['database']}.{table['schema']}.{table['title']}\\n\")\n",
    "\n",
    "with open(\"data/stale_tables.txt\", \"w\") as f:\n",
    "    for table in stale_tables:\n",
    "        f.write(f\"{table['database']}.{table['schema']}.{table['title']}\\n\")\n",
    "\n"
   ]
  },
  {
   "cell_type": "code",
   "execution_count": null,
   "metadata": {},
   "outputs": [],
   "source": []
  }
 ],
 "metadata": {
  "kernelspec": {
   "display_name": "Python 3 (ipykernel)",
   "language": "python",
   "name": "python3"
  },
  "language_info": {
   "codemirror_mode": {
    "name": "ipython",
    "version": 3
   },
   "file_extension": ".py",
   "mimetype": "text/x-python",
   "name": "python",
   "nbconvert_exporter": "python",
   "pygments_lexer": "ipython3",
   "version": "3.9.16"
  },
  "vscode": {
   "interpreter": {
    "hash": "ebaf4ef54945abf0188377a817754ccebfa967e681ad8bc8cbe9af00a33921b9"
   }
  }
 },
 "nbformat": 4,
 "nbformat_minor": 1
}
