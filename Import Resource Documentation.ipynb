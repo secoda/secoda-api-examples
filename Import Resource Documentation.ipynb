{
 "cells": [
  {
   "cell_type": "markdown",
   "metadata": {
    "collapsed": false,
    "pycharm": {
     "name": "#%% md\n"
    }
   },
   "source": [
    "# Import Resource Metadata\n",
    "\n",
    "This notebook provides an example for uploading table descriptions to Secoda. To get started, you will need to [obtain an API key](https://app.secoda.co/settings/api)\n",
    "\n",
    "Input your API key and Secoda API endpoint URL below. The URL for the cloud instance is `https://api.secoda.co`. If you are self-hosting Secoda or on the EU instance, you will have to update variable."
   ]
  },
  {
   "cell_type": "code",
   "execution_count": 1,
   "metadata": {
    "collapsed": false,
    "pycharm": {
     "name": "#%%\n"
    }
   },
   "outputs": [],
   "source": [
    "\n",
    "import requests\n",
    "\n",
    "API_KEY = \"<api_key>\"\n",
    "SECODA_API_URL = \"https://api.secoda.co\"\n",
    "\n",
    "session = requests.Session()\n",
    "session.headers.update(dict(\n",
    "    Authorization=f\"Bearer {API_KEY}\"\n",
    "))\n",
    "\n",
    "\n",
    "def build_url(url: str):\n",
    "    return f\"{SECODA_API_URL}{url}\""
   ]
  },
  {
   "cell_type": "markdown",
   "metadata": {
    "collapsed": false,
    "pycharm": {
     "name": "#%% md\n"
    }
   },
   "source": [
    "## Parse your data\n",
    "\n",
    "If your data is in CSV format, you could parse it this way and standardize the column names in there to match up with Secoda"
   ]
  },
  {
   "cell_type": "code",
   "execution_count": null,
   "metadata": {
    "collapsed": false,
    "pycharm": {
     "is_executing": true,
     "name": "#%%\n"
    }
   },
   "outputs": [],
   "source": [
    "import pandas\n",
    "\n",
    "dataframe = pandas.read_csv(\"data/entity_documentation.csv\")\n",
    "dataframe"
   ]
  },
  {
   "cell_type": "markdown",
   "metadata": {
    "collapsed": false,
    "pycharm": {
     "name": "#%% md\n"
    }
   },
   "source": [
    "## Upload documentation to Secoda"
   ]
  },
  {
   "cell_type": "code",
   "execution_count": null,
   "metadata": {
    "collapsed": false,
    "pycharm": {
     "name": "#%%\n"
    }
   },
   "outputs": [],
   "source": [
    "\n",
    "def find_secoda_entity(entity_type, title, parent, *args, **kwargs):\n",
    "    res = session.get(\n",
    "        build_url(f\"/table/{entity_type}s/?title={title}&parent={parent}\")\n",
    "    )\n",
    "    results = res.json().get(\"results\")\n",
    "    if len(results) >= 1:\n",
    "        return results[0]\n",
    "    return None\n",
    "\n",
    "def set_entity_documentation(entity_type, unique_id, description, documentation):\n",
    "    session.put(\n",
    "        build_url(f\"/table/{entity_type}s/{unique_id}\"),\n",
    "        json=dict(\n",
    "            description=description,\n",
    "            definition=documentation\n",
    "        )\n",
    "    )\n",
    "\n",
    "for index, entry in enumerate(dataframe.to_dict(\"records\")):\n",
    "    print(f\"Processing {index}/{dataframe.shape[0]}\")\n",
    "    table = find_secoda_entity(\n",
    "        entity_type=entry[\"entity_type\"],\n",
    "        title=entry[\"title\"],\n",
    "        parent=entry[\"parent\"]\n",
    "    )\n",
    "    if table is not None:\n",
    "        set_entity_documentation(entry[\"entity_type\"], table.get(\"id\"), entry.get(\"description\", \"\"), entry.get(\"definition\", \"\"))"
   ]
  }
 ],
 "metadata": {
  "kernelspec": {
   "display_name": "Python 3",
   "language": "python",
   "name": "python3"
  },
  "language_info": {
   "codemirror_mode": {
    "name": "ipython",
    "version": 3
   },
   "file_extension": ".py",
   "mimetype": "text/x-python",
   "name": "python",
   "nbconvert_exporter": "python",
   "pygments_lexer": "ipython3",
   "version": "3.9.16 (main, Jan 16 2023, 16:29:16) \n[Clang 14.0.0 (clang-1400.0.29.202)]"
  },
  "vscode": {
   "interpreter": {
    "hash": "ebaf4ef54945abf0188377a817754ccebfa967e681ad8bc8cbe9af00a33921b9"
   }
  }
 },
 "nbformat": 4,
 "nbformat_minor": 0
}
