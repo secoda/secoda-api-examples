{
 "cells": [
  {
   "cell_type": "markdown",
   "metadata": {
    "collapsed": false,
    "pycharm": {
     "name": "#%% md\n"
    }
   },
   "source": [
    "# Create Tables\n",
    "\n",
    "This notebook provides an example for creating databases, schemas, tables, and columns using the Secoda API. To get started, you will need to [obtain an API key](https://app.secoda.co/settings/api)"
   ]
  },
  {
   "cell_type": "markdown",
   "metadata": {
    "collapsed": false,
    "pycharm": {
     "name": "#%% md\n"
    }
   },
   "source": [
    "## Configure `requests` with your API key\n",
    "\n",
    "Input your API key and Secoda API endpoint URL below. The URL for the cloud instance is `https://api.secoda.co`. If you are self-hosting Secoda or on the EU instance, you will have to update variable."
   ]
  },
  {
   "cell_type": "code",
   "execution_count": 1,
   "metadata": {
    "collapsed": false,
    "pycharm": {
     "name": "#%%\n"
    }
   },
   "outputs": [],
   "source": [
    "import requests\n",
    "\n",
    "API_KEY = \"\"\n",
    "SECODA_API_URL = \"https://api.secoda.co\"\n",
    "INTEGRATION_ID = \"\"\n",
    "\n",
    "session = requests.Session()\n",
    "session.headers.update(dict(\n",
    "    Authorization=f\"Bearer {API_KEY}\"\n",
    "))\n",
    "\n",
    "def build_url(url: str):\n",
    "    return f\"{SECODA_API_URL}{url}\""
   ]
  },
  {
   "cell_type": "code",
   "execution_count": null,
   "metadata": {},
   "outputs": [],
   "source": [
    "import pandas\n",
    "\n",
    "dataframe = pandas.read_csv(\"data/data_import.csv\", sep=\";\", encoding=\"unicode_escape\", low_memory=False)\n",
    "dataframe[\"table\"] = dataframe[\"name\"]\n",
    "dataframe[\"table_description\"] = dataframe[\"description\"]\n",
    "dataframe[\"column\"] = dataframe[\"col_name\"]\n",
    "dataframe.fillna('', inplace=True)\n",
    "dataframe"
   ]
  },
  {
   "cell_type": "markdown",
   "metadata": {
    "collapsed": false,
    "pycharm": {
     "name": "#%% md\n"
    }
   },
   "source": [
    "## Create a cluster and database\n",
    "\n",
    "Secoda organizes in a Cluster -> Database -> Schema -> Table -> (Column, Query, Test) hierarchy. The first step is to create a cluster."
   ]
  },
  {
   "cell_type": "code",
   "execution_count": 3,
   "metadata": {
    "collapsed": false,
    "pycharm": {
     "name": "#%%\n"
    }
   },
   "outputs": [],
   "source": [
    "# first make sure no clusters with the same name exist to avoid inserting duplicate entries\n",
    "my_cluster_name = \"oracle\"\n",
    "clusters = session.get(\n",
    "    build_url(f\"/table/clusters?title={my_cluster_name}\")\n",
    ").json().get(\"results\", [])\n",
    "\n",
    "# create a cluster if non exist with the name\n",
    "if len(clusters) == 0:\n",
    "    cluster = session.post(build_url(\"/table/clusters/\"), json=dict(\n",
    "        title=my_cluster_name,\n",
    "        integration=INTEGRATION_ID,\n",
    "    )).json()\n",
    "else:\n",
    "    cluster = clusters[0]\n",
    "\n",
    "\n",
    "# create a cluster if non exist with the name\n",
    "database_name = \"bice\"\n",
    "databases = session.get(\n",
    "    build_url(f\"/table/databases?title={database_name}&parent_id={cluster['id']}\")\n",
    ").json().get(\"results\", [])\n",
    "\n",
    "if len(databases) == 0:\n",
    "    database = session.post(build_url(\"/table/databases/\"), json=dict(\n",
    "        title=database_name,\n",
    "        parent=cluster[\"id\"],\n",
    "        integration=INTEGRATION_ID,\n",
    "    )).json()\n",
    "else:\n",
    "    database = databases[0]"
   ]
  },
  {
   "cell_type": "markdown",
   "metadata": {},
   "source": [
    "# Process tables"
   ]
  },
  {
   "cell_type": "code",
   "execution_count": null,
   "metadata": {},
   "outputs": [],
   "source": [
    "def get_or_create_schema(schema_name: str):\n",
    "    schemas = (\n",
    "        session.get(\n",
    "            build_url(f\"/table/schemas/?title={schema_name}&parent_id={database['id']}\")\n",
    "        )\n",
    "        .json()\n",
    "        .get(\"results\", [])\n",
    "    )\n",
    "\n",
    "    if len(schemas) == 0:\n",
    "        schema = session.post(\n",
    "            build_url(\"/table/schemas/\"),\n",
    "            json=dict(\n",
    "                title=schema_name,\n",
    "                parent=database[\"id\"],\n",
    "                integration=INTEGRATION_ID,\n",
    "            ),\n",
    "        ).json()\n",
    "    else:\n",
    "        schema = schemas[0]\n",
    "    return schema\n",
    "\n",
    "\n",
    "def get_or_create_table(schema_id: str, table_dict: dict):\n",
    "    tables = (\n",
    "        session.get(\n",
    "            build_url(f\"/table/tables/?title={table_dict['table']}&parent_id={schema_id}\")\n",
    "        )\n",
    "        .json()\n",
    "        .get(\"results\", [])\n",
    "    )\n",
    "\n",
    "    if len(tables) == 0:\n",
    "        table = session.post(\n",
    "            build_url(\"/table/tables/\"),\n",
    "            json=dict(\n",
    "                title=table_dict[\"table\"],\n",
    "                parent=schema_id,\n",
    "                schema=table_dict[\"schema\"],\n",
    "                database=database[\"title\"],\n",
    "                cluster=cluster[\"title\"],\n",
    "                description=table_dict[\"description\"],\n",
    "                definition=\"\",\n",
    "                integration=INTEGRATION_ID,\n",
    "            ),\n",
    "        ).json()\n",
    "    else:\n",
    "        table = tables[0]\n",
    "    return table\n",
    "\n",
    "\n",
    "def get_or_create_column(schema_name: str, table_id: str, column_dict: dict):\n",
    "    columns = (\n",
    "        session.get(\n",
    "            build_url(f\"/table/columns/?title={column_dict['column']}&parent_id={table_id}\")\n",
    "        )\n",
    "        .json()\n",
    "        .get(\"results\", [])\n",
    "    )\n",
    "\n",
    "    if len(columns) == 0:\n",
    "        column = session.post(\n",
    "            build_url(\"/table/columns/\"),\n",
    "            json=dict(\n",
    "                title=column_dict[\"column\"],\n",
    "                parent=table_id,\n",
    "                table=column_dict[\"table\"],\n",
    "                schema=column_dict[\"schema\"],\n",
    "                database=database[\"title\"],\n",
    "                cluster=cluster[\"title\"],\n",
    "                description=column_dict[\"col_description\"],\n",
    "                type=column_dict[\"col_type\"],\n",
    "                is_pk=column_dict[\"is_pk\"],\n",
    "                sort_order=column_dict[\"col_sort_order\"],\n",
    "                integration=INTEGRATION_ID,\n",
    "            ),\n",
    "        ).json()\n",
    "    else:\n",
    "        column = columns[0]\n",
    "\n",
    "\n",
    "for index, entry in enumerate(dataframe.to_dict(\"records\")):\n",
    "    print(f\"Processing {index}/{dataframe.shape[0]}\")\n",
    "    schema = get_or_create_schema(entry[\"schema\"])\n",
    "    table = get_or_create_table(\n",
    "        schema[\"id\"],\n",
    "        {\n",
    "            \"schema\": entry[\"schema\"],\n",
    "            \"table\": entry[\"table\"],\n",
    "            \"description\": entry[\"description\"],\n",
    "        },\n",
    "    )\n",
    "    column = get_or_create_column(\n",
    "        schema[\"id\"],\n",
    "        table[\"id\"],\n",
    "        {\n",
    "            \"schema\": entry[\"schema\"],\n",
    "            \"table\": entry[\"table\"],\n",
    "            \"column\": entry[\"column\"],\n",
    "            \"col_description\": entry[\"col_description\"],\n",
    "            \"col_type\": entry[\"col_type\"],\n",
    "            \"is_pk\": entry[\"is_pk\"],\n",
    "            \"col_sort_order\": entry[\"col_sort_order\"],\n",
    "        },\n",
    "    )\n"
   ]
  },
  {
   "cell_type": "code",
   "execution_count": null,
   "metadata": {},
   "outputs": [],
   "source": []
  }
 ],
 "metadata": {
  "kernelspec": {
   "display_name": "Python 3.9.6 64-bit ('3.9.6')",
   "language": "python",
   "name": "python3"
  },
  "language_info": {
   "codemirror_mode": {
    "name": "ipython",
    "version": 3
   },
   "file_extension": ".py",
   "mimetype": "text/x-python",
   "name": "python",
   "nbconvert_exporter": "python",
   "pygments_lexer": "ipython3",
   "version": "3.9.6"
  },
  "vscode": {
   "interpreter": {
    "hash": "5dbe115918b82fb8c33e63f6fabda5c6de4de2bede040e24c266834fe5d83b9d"
   }
  }
 },
 "nbformat": 4,
 "nbformat_minor": 0
}
