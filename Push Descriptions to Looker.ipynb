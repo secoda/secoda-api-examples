{
 "cells": [
  {
   "cell_type": "markdown",
   "metadata": {
    "pycharm": {
     "name": "#%% md\n"
    }
   },
   "source": [
    "# Push Looker Descriptions\n",
    "\n",
    "This notebook provides an example for pushing dashboard descriptions from Secoda to Looker. To get started, you will need to [obtain an API key](https://app.secoda.co/settings/api)\n",
    "\n",
    "Input your API key and Secoda API endpoint URL below. The URL for the cloud instance is `https://api.secoda.co`. If you are self-hosting Secoda or on the EU instance, you will have to update variable."
   ]
  },
  {
   "cell_type": "code",
   "execution_count": null,
   "metadata": {},
   "outputs": [],
   "source": [
    "%pip install google google-api-core google-api-python-client google-auth google-auth-httplib2 googleapis-common-protos httplib2"
   ]
  },
  {
   "cell_type": "code",
   "execution_count": 11,
   "metadata": {
    "pycharm": {
     "name": "#%%\n"
    }
   },
   "outputs": [],
   "source": [
    "\n",
    "import requests\n",
    "import httplib2\n",
    "import google_auth_httplib2\n",
    "from google.oauth2 import service_account\n",
    "from googleapiclient.discovery import build\n",
    "\n",
    "API_KEY = \"\"\n",
    "SECODA_API_URL = \"https://api.secoda.co\"\n",
    "LOOKER_API_URL = \"https://secoda.cloud.looker.com/api/4.0\"\n",
    "LOOKER_CLIENT_ID = \"\"\n",
    "LOOKER_SECRET = \"\"\n",
    "\n",
    "looker_token = None\n",
    "\n",
    "session = requests.Session()\n",
    "session.headers.update(dict(\n",
    "    Authorization=f\"Bearer {API_KEY}\"\n",
    "))\n",
    "\n",
    "def build_url(url: str):\n",
    "    return f\"{SECODA_API_URL}{url}\"\n",
    "\n",
    "def looker_credentials():\n",
    "    return dict(\n",
    "        headers={\n",
    "            \"Authorization\": f\"token {looker_token}\",\n",
    "        }\n",
    "    )\n",
    "\n",
    "def looker_auth():\n",
    "    response = requests.post(\n",
    "        f\"{LOOKER_API_URL}/login\",\n",
    "        data={\n",
    "            \"client_id\": LOOKER_CLIENT_ID,\n",
    "            \"client_secret\": LOOKER_SECRET,\n",
    "        },\n",
    "    )\n",
    "\n",
    "    if response.ok:\n",
    "        looker_token = response.json().get(\"access_token\")\n",
    "        return True\n",
    "    raise ConnectionError(response.text)"
   ]
  },
  {
   "cell_type": "markdown",
   "metadata": {
    "pycharm": {
     "name": "#%% md\n"
    }
   },
   "source": [
    "## Push Dashboard Descriptions\n",
    "\n",
    "You can obtain a dashboards's descriptions with the /dashboard/dashboards API endpoint. The API endpoint returns a list of dashboards. Each dashboard has a `description` field. You can use this field to update the dashboard description in Looker."
   ]
  },
  {
   "cell_type": "code",
   "execution_count": 20,
   "metadata": {
    "pycharm": {
     "name": "#%%\n"
    }
   },
   "outputs": [
    {
     "name": "stdout",
     "output_type": "stream",
     "text": [
      "Updating dashboard Dashboard with Multiple Explores...\n",
      "Updating dashboard Orders Dashboard...\n",
      "{\"message\":\"Requires authentication.\",\"documentation_url\":\"https://cloud.google.com/looker/docs/\"}\n",
      "Successfully updated dashboard Orders Dashboard with {'description': 'Test description...'}\n",
      "Updating dashboard Orders Dashboard 2...\n"
     ]
    }
   ],
   "source": [
    "def get_dashboards():\n",
    "    res = session.get(\n",
    "        build_url(f\"/dashboard/dashboards/?integration=22208f1e-47a0-4f18-828d-18aa8fbaf34f\")\n",
    "    )\n",
    "    results = res.json().get(\"results\")\n",
    "    if len(results) >= 1:\n",
    "        return results\n",
    "    return None\n",
    "\n",
    "def patch_looker_dashboard(dashboard_id, properties):\n",
    "    try:\n",
    "        res = requests.patch(\n",
    "            f\"{LOOKER_API_URL}/dashboards/{dashboard_id}\", \n",
    "            properties, \n",
    "            **looker_credentials()\n",
    "        )\n",
    "        print(res.text)\n",
    "        print(f\"Successfully updated dashboard {dashboard.get('title')} with {properties}\")\n",
    "    except Exception as e:\n",
    "        print(e)\n",
    "        print(f\"Failed to update dashboard {dashboard.get('title')} with {properties}\")\n",
    "\n",
    "looker_auth()        \n",
    "dashboards = get_dashboards()\n",
    "for dashboard in dashboards:\n",
    "    print(f\"Updating dashboard {dashboard.get('title')}...\")\n",
    "    # Push descriptions\n",
    "    if dashboard.get('description', ''):\n",
    "        \n",
    "        dashboard_id = dashboard.get(\"databuilder_id\", \".\").split(\".\")[-1]\n",
    "        patch_looker_dashboard(dashboard_id, {\"description\": dashboard.get(\"description\", \"\")})\n",
    "\n",
    "\n"
   ]
  },
  {
   "cell_type": "code",
   "execution_count": null,
   "metadata": {},
   "outputs": [],
   "source": []
  }
 ],
 "metadata": {
  "kernelspec": {
   "display_name": "Python 3 (ipykernel)",
   "language": "python",
   "name": "python3"
  },
  "language_info": {
   "codemirror_mode": {
    "name": "ipython",
    "version": 3
   },
   "file_extension": ".py",
   "mimetype": "text/x-python",
   "name": "python",
   "nbconvert_exporter": "python",
   "pygments_lexer": "ipython3",
   "version": "3.9.16"
  },
  "vscode": {
   "interpreter": {
    "hash": "ebaf4ef54945abf0188377a817754ccebfa967e681ad8bc8cbe9af00a33921b9"
   }
  }
 },
 "nbformat": 4,
 "nbformat_minor": 1
}
