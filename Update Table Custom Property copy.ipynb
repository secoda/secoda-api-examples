{
 "cells": [
  {
   "cell_type": "markdown",
   "metadata": {
    "collapsed": false,
    "pycharm": {
     "name": "#%% md\n"
    }
   },
   "source": [
    "# Update Table Custom Property\n",
    "\n",
    "This notebook provides an example for updated a table custom property. To get started, you will need to [obtain an API key](https://app.secoda.co/settings/api)\n",
    "\n",
    "Input your API key and Secoda API endpoint URL below. The URL for the cloud instance is `https://api.secoda.co`. If you are self-hosting Secoda or on the EU instance, you will have to update variable."
   ]
  },
  {
   "cell_type": "code",
   "execution_count": null,
   "metadata": {
    "collapsed": false,
    "pycharm": {
     "name": "#%%\n"
    }
   },
   "outputs": [],
   "source": [
    "\n",
    "import requests\n",
    "\n",
    "API_KEY = \"\"\n",
    "SECODA_API_URL = \"https://api.secoda.co\"\n",
    "\n",
    "session = requests.Session()\n",
    "session.headers.update(dict(\n",
    "    Authorization=f\"Bearer {API_KEY}\"\n",
    "))\n",
    "\n",
    "\n",
    "def build_url(url: str):\n",
    "    return f\"{SECODA_API_URL}{url}\""
   ]
  },
  {
   "attachments": {},
   "cell_type": "markdown",
   "metadata": {},
   "source": [
    "## Parse your content\n",
    "Use a csv file that has the following columns: database, schema, table, column, property, value. If you'd like to just update table custom properties, leave the column `column` blank."
   ]
  },
  {
   "cell_type": "code",
   "execution_count": 21,
   "metadata": {},
   "outputs": [],
   "source": [
    "import pandas\n",
    "\n",
    "dataframe = pandas.read_csv(\"./custom_properties.csv\")\n",
    "dataframe = dataframe.where(pandas.notnull(dataframe), None)"
   ]
  },
  {
   "attachments": {},
   "cell_type": "markdown",
   "metadata": {
    "collapsed": false,
    "pycharm": {
     "name": "#%% md\n"
    }
   },
   "source": [
    "## Update table custom property\n",
    "In this step, we find the table using the title, schema, and database and then update a custom property on the table."
   ]
  },
  {
   "cell_type": "code",
   "execution_count": null,
   "metadata": {
    "collapsed": false,
    "pycharm": {
     "name": "#%%\n"
    }
   },
   "outputs": [],
   "source": [
    "def find_column(column, table, schema, database, *args, **kwargs):\n",
    "    res = session.get(build_url(f\"/table/columns/?title={column}&parent__title={table}&parent__parent__title={schema}&parent__parent__parent__title={database}\"))\n",
    "    results = res.json().get(\"results\")\n",
    "    if len(results) >= 1:\n",
    "        return results[0]\n",
    "    return None\n",
    "\n",
    "\n",
    "def set_column_properties(unique_id, properties):\n",
    "    session.put(\n",
    "        build_url(f\"/table/columns/{unique_id}/\"),\n",
    "        json=dict(\n",
    "            properties=properties,\n",
    "        ),\n",
    "    )\n",
    "\n",
    "def find_table(table, schema, database, *args, **kwargs):\n",
    "    res = session.get(build_url(f\"/table/tables/?title={table}&parent__title={schema}&parent__parent__title={database}\"))\n",
    "    results = res.json().get(\"results\")\n",
    "    if len(results) >= 1:\n",
    "        return results[0]\n",
    "    return None\n",
    "\n",
    "\n",
    "def set_table_properties(unique_id, properties):\n",
    "    session.put(\n",
    "        build_url(f\"/table/tables/{unique_id}/\"),\n",
    "        json=dict(\n",
    "            properties=properties,\n",
    "        ),\n",
    "    )\n",
    "\n",
    "for index, entry in enumerate(dataframe.to_dict(\"records\")):\n",
    "    print(f\"Processing {index}/{dataframe.shape[0]}\")\n",
    "    property = entry.get(\"property\")\n",
    "    value = entry.get(\"value\")\n",
    "\n",
    "    if entry.get(\"column\", None) and entry.get(\"column\", None) != \"\":\n",
    "        column = find_column(**entry)\n",
    "        if column:\n",
    "            print(f\"Found column: {column.get('title')}\")\n",
    "            properties = column.get(\"properties\", {})\n",
    "            if not \"custom\" in properties:\n",
    "                properties[\"custom\"] = {}\n",
    "\n",
    "            properties[\"custom\"][property] = value\n",
    "            set_column_properties(column.get(\"id\"), properties)\n",
    "    else:\n",
    "        table = find_table(**entry)\n",
    "        if table:\n",
    "            print(f\"Found table: {table.get('title')}\")\n",
    "            properties = table.get(\"properties\", {})\n",
    "            if not \"custom\" in properties:\n",
    "                properties[\"custom\"] = []\n",
    "\n",
    "            properties[\"custom\"].append({\n",
    "                'name': property,\n",
    "                'value': value,\n",
    "            })\n",
    "            set_table_properties(table.get(\"id\"), properties)\n",
    "            \n"
   ]
  }
 ],
 "metadata": {
  "kernelspec": {
   "display_name": "Python 3",
   "language": "python",
   "name": "python3"
  },
  "language_info": {
   "codemirror_mode": {
    "name": "ipython",
    "version": 3
   },
   "file_extension": ".py",
   "mimetype": "text/x-python",
   "name": "python",
   "nbconvert_exporter": "python",
   "pygments_lexer": "ipython3",
   "version": "3.9.15 (main, Nov 16 2022, 15:59:18) \n[Clang 14.0.0 (clang-1400.0.29.202)]"
  },
  "vscode": {
   "interpreter": {
    "hash": "ebaf4ef54945abf0188377a817754ccebfa967e681ad8bc8cbe9af00a33921b9"
   }
  }
 },
 "nbformat": 4,
 "nbformat_minor": 0
}
