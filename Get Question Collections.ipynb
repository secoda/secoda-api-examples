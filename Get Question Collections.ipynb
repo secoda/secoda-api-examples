{
 "cells": [
  {
   "cell_type": "markdown",
   "metadata": {
    "collapsed": false,
    "pycharm": {
     "name": "#%% md\n"
    }
   },
   "source": [
    "# Get Question Collections\n",
    "\n",
    "This notebook provides an example for getting question collections in Secoda. To get started, you will need to [obtain an API key](https://app.secoda.co/settings/api)\n",
    "\n",
    "Input your API key and Secoda API endpoint URL below. The URL for the cloud instance is `https://api.secoda.co`. If you are self-hosting Secoda or on the EU instance, you will have to update variable."
   ]
  },
  {
   "cell_type": "code",
   "execution_count": 1,
   "metadata": {
    "collapsed": false,
    "pycharm": {
     "name": "#%%\n"
    }
   },
   "outputs": [],
   "source": [
    "\n",
    "import requests\n",
    "\n",
    "API_KEY = \"\"\n",
    "SECODA_API_URL = \"https://api.secoda.co\"\n",
    "\n",
    "session = requests.Session()\n",
    "session.headers.update(dict(\n",
    "    Authorization=f\"Bearer {API_KEY}\"\n",
    "))\n",
    "\n",
    "\n",
    "def build_url(url: str):\n",
    "    return f\"{SECODA_API_URL}{url}\""
   ]
  },
  {
   "cell_type": "markdown",
   "metadata": {
    "collapsed": false,
    "pycharm": {
     "name": "#%% md\n"
    }
   },
   "source": [
    "## Get Question Collections"
   ]
  },
  {
   "cell_type": "code",
   "execution_count": 7,
   "metadata": {
    "collapsed": false,
    "pycharm": {
     "name": "#%%\n"
    }
   },
   "outputs": [
    {
     "name": "stdout",
     "output_type": "stream",
     "text": [
      "{'20125677-a27d-42e1-8db9-8244e26db769': 1, 'title': 'Looker Data'}\n"
     ]
    }
   ],
   "source": [
    "def create_collection(title, description, *args, **kwargs):\n",
    "    res = session.post(\n",
    "        build_url(f\"/collection/collections/\"),\n",
    "        {\"title\": title, \"description\": description}\n",
    "    )\n",
    "    results = res.json().get(\"results\")\n",
    "    if len(results) >= 1:\n",
    "        return results[0]\n",
    "    return None\n",
    "\n",
    "collections = session.get(build_url(f\"/collection/collections/\")).json().get(\"results\")\n",
    "questions = session.get(build_url(f\"/question/questions/\")).json().get(\"results\")\n",
    "\n",
    "# Create a map of collection id to collection\n",
    "collection_map = {collection[\"id\"]: collection for collection in collections}\n",
    "\n",
    "# Create a map of collection title to number of questions with that collection\n",
    "collection_to_question_count = {}\n",
    "for question in questions:\n",
    "    for collection_id in question.get(\"collections\"):\n",
    "        collection = collection_map.get(collection_id, {})\n",
    "        if collection_id not in collection_to_question_count:\n",
    "            collection_to_question_count[collection.get(\"id\", \"\")] = 0\n",
    "            collection_to_question_count['title'] = collection.get(\"title\", \"\")\n",
    "        collection_to_question_count[collection.get(\"id\", \"\")] += 1\n",
    "\n",
    "print(collection_to_question_count)"
   ]
  }
 ],
 "metadata": {
  "kernelspec": {
   "display_name": "Python 3.9.6 64-bit ('3.9.6')",
   "language": "python",
   "name": "python3"
  },
  "language_info": {
   "codemirror_mode": {
    "name": "ipython",
    "version": 3
   },
   "file_extension": ".py",
   "mimetype": "text/x-python",
   "name": "python",
   "nbconvert_exporter": "python",
   "pygments_lexer": "ipython3",
   "version": "3.9.6"
  },
  "vscode": {
   "interpreter": {
    "hash": "5dbe115918b82fb8c33e63f6fabda5c6de4de2bede040e24c266834fe5d83b9d"
   }
  }
 },
 "nbformat": 4,
 "nbformat_minor": 0
}
