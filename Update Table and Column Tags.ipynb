{
 "cells": [
  {
   "attachments": {},
   "cell_type": "markdown",
   "metadata": {
    "collapsed": false,
    "pycharm": {
     "name": "#%% md\n"
    }
   },
   "source": [
    "# Update Table and Column Tags\n",
    "\n",
    "This notebook provides an example for updated a table and columns custom properties. To get started, you will need to [obtain an API key](https://app.secoda.co/settings/api)\n",
    "\n",
    "Input your API key and Secoda API endpoint URL below. The URL for the cloud instance is `https://api.secoda.co`. If you are self-hosting Secoda or on the EU instance, you will have to update variable."
   ]
  },
  {
   "cell_type": "code",
   "execution_count": null,
   "metadata": {
    "collapsed": false,
    "pycharm": {
     "name": "#%%\n"
    }
   },
   "outputs": [],
   "source": [
    "\n",
    "import requests\n",
    "\n",
    "API_KEY = \"api_key\"\n",
    "SECODA_API_URL = \"https://api.secoda.co\"\n",
    "\n",
    "session = requests.Session()\n",
    "session.headers.update(dict(\n",
    "    Authorization=f\"Bearer {API_KEY}\"\n",
    "))\n",
    "\n",
    "\n",
    "def build_url(url: str):\n",
    "    return f\"{SECODA_API_URL}{url}\""
   ]
  },
  {
   "attachments": {},
   "cell_type": "markdown",
   "metadata": {
    "collapsed": false,
    "pycharm": {
     "name": "#%% md\n"
    }
   },
   "source": [
    "## Update table and column tags\n",
    "In this step, we find the table using the title, schema, and database and then update the tags."
   ]
  },
  {
   "cell_type": "code",
   "execution_count": null,
   "metadata": {
    "collapsed": false,
    "pycharm": {
     "name": "#%%\n"
    }
   },
   "outputs": [],
   "source": [
    "def get_tables():\n",
    "    res = session.get(build_url(\"/table/tables/\"))\n",
    "    results = res.json().get(\"results\")\n",
    "    if results and len(results) >= 1:\n",
    "        return results\n",
    "    return []\n",
    "\n",
    "def get_table_columns(parent_id):\n",
    "    res = session.get(build_url(f\"/table/columns/?parent_id={parent_id}\"))\n",
    "    results = res.json().get(\"results\")\n",
    "    if results and len(results) >= 1:\n",
    "        return results[0]\n",
    "    return []\n",
    "\n",
    "def update_table_tags(id, tags):\n",
    "    session.patch(\n",
    "        build_url(f\"/table/tables/{id}/\"),\n",
    "        json=dict(\n",
    "            tags=tags,\n",
    "        ),\n",
    "    )\n",
    "\n",
    "def update_column_tags(id, tags):\n",
    "    session.patch(\n",
    "        build_url(f\"/table/columns/{id}/\"),\n",
    "        json=dict(\n",
    "            tags=tags,\n",
    "        ),\n",
    "    )\n",
    "\n",
    "tables = get_tables()\n",
    "\n",
    "# Convert table tags to an array if the \"tags\" field is not an array\n",
    "for table in tables:\n",
    "    tags = table.get(\"tags\", [])\n",
    "    if not isinstance(tags, list):\n",
    "        tags = [tags]\n",
    "        print(\"UPDATING TABLE TAGS: \", table.get(\"title\"), \" \", tags)\n",
    "        update_table_tags(table.get(\"id\"), tags)\n",
    "\n",
    "    # Convert column tags to an array if the \"tags\" field is not an array\n",
    "    columns = get_table_columns(table.get(\"id\"))\n",
    "    if columns:\n",
    "        tags = columns.get(\"tags\", [])\n",
    "        for column in columns:\n",
    "            if not isinstance(tags, list):\n",
    "                tags = [tags]\n",
    "                print(\"UPDATING COLUMN TAGS: \", column.get(\"title\"), \" \", tags)\n",
    "                update_column_tags(column.get(\"id\"), tags)\n",
    "\n"
   ]
  }
 ],
 "metadata": {
  "kernelspec": {
   "display_name": "Python 3",
   "language": "python",
   "name": "python3"
  },
  "language_info": {
   "codemirror_mode": {
    "name": "ipython",
    "version": 3
   },
   "file_extension": ".py",
   "mimetype": "text/x-python",
   "name": "python",
   "nbconvert_exporter": "python",
   "pygments_lexer": "ipython3",
   "version": "3.9.15 (main, Nov 16 2022, 15:59:18) \n[Clang 14.0.0 (clang-1400.0.29.202)]"
  },
  "vscode": {
   "interpreter": {
    "hash": "ebaf4ef54945abf0188377a817754ccebfa967e681ad8bc8cbe9af00a33921b9"
   }
  }
 },
 "nbformat": 4,
 "nbformat_minor": 0
}
